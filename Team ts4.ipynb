{
 "cells": [
  {
   "cell_type": "markdown",
   "metadata": {},
   "source": [
    "### Phase 1:  Introduction and Data Collection"
   ]
  },
  {
   "cell_type": "markdown",
   "metadata": {},
   "source": [
    "### Introduction\n",
    "\n",
    "EDSA has provided a challege to construct regression capable of accurately predicting how much a kilogram of golden delicious apples apple will cost given certain parameters. This challenge will follow the five phases of the data science process, which include data collection, cleaning, exploratory data analysis, model building and model deployment.\n",
    "\n",
    "\n",
    "\n",
    "### Data Collection\n",
    "\n",
    "The data for this dataset was obtained from Durban Fresh Produce Market and adjusted to suit this challenge's needs.\n",
    "The data supplied includes:\n",
    "sample_submission.csv - Sample of the submission format for the hackathon.\n",
    "df - test_set.csv - The test split of the dataset.\n",
    "df - train_set.csv - The training split of the dataset."
   ]
  },
  {
   "cell_type": "markdown",
   "metadata": {},
   "source": [
    "# Phase 2: Data Cleaning"
   ]
  },
  {
   "cell_type": "markdown",
   "metadata": {},
   "source": [
    "We will start by first importing some of the packages we will need to clean and explore our data. This is not an exclusive list of all the packages. Should we need more packages in the process we will import them at a later stage as needed."
   ]
  },
  {
   "cell_type": "code",
   "execution_count": 1,
   "metadata": {},
   "outputs": [],
   "source": [
    "#import required packages\n",
    "import numpy as np\n",
    "import pandas as pd\n",
    "import matplotlib.pyplot as plt\n",
    "import seaborn as sns\n",
    "%matplotlib inline\n",
    "\n",
    "import warnings\n",
    "warnings.filterwarnings('ignore')\n",
    "from sklearn import neighbors # provides functionality for unsupervised and supervised neighbors-based learning methods\n",
    "from sklearn.metrics import mean_squared_error # Mean squared error regression loss\n",
    "from sklearn import preprocessing # provides functions and classes to change raw feature vectors\n",
    "from scipy import stats\n",
    "\n",
    "from sklearn import linear_model # Scikit learn library that implements generalized linear models\n",
    "\n",
    "from math import log\n",
    "\n",
    "from sklearn import neighbors\n",
    " \n",
    "from math import sqrt\n",
    "\n"
   ]
  },
  {
   "cell_type": "code",
   "execution_count": 2,
   "metadata": {},
   "outputs": [],
   "source": [
    "df_train = pd.read_csv('Advanced_regression_predict-Starter-Data-2629/df-train_set.csv') # import the train data for exploration"
   ]
  },
  {
   "cell_type": "code",
   "execution_count": 3,
   "metadata": {},
   "outputs": [
    {
     "data": {
      "text/html": [
       "<div>\n",
       "<style scoped>\n",
       "    .dataframe tbody tr th:only-of-type {\n",
       "        vertical-align: middle;\n",
       "    }\n",
       "\n",
       "    .dataframe tbody tr th {\n",
       "        vertical-align: top;\n",
       "    }\n",
       "\n",
       "    .dataframe thead th {\n",
       "        text-align: right;\n",
       "    }\n",
       "</style>\n",
       "<table border=\"1\" class=\"dataframe\">\n",
       "  <thead>\n",
       "    <tr style=\"text-align: right;\">\n",
       "      <th></th>\n",
       "      <th>Province</th>\n",
       "      <th>Container</th>\n",
       "      <th>Size_Grade</th>\n",
       "      <th>Weight_Kg</th>\n",
       "      <th>Commodities</th>\n",
       "      <th>Date</th>\n",
       "      <th>Low_Price</th>\n",
       "      <th>High_Price</th>\n",
       "      <th>Sales_Total</th>\n",
       "      <th>Total_Qty_Sold</th>\n",
       "      <th>Total_Kg_Sold</th>\n",
       "      <th>Stock_On_Hand</th>\n",
       "      <th>avg_price_per_kg</th>\n",
       "    </tr>\n",
       "  </thead>\n",
       "  <tbody>\n",
       "    <tr>\n",
       "      <th>0</th>\n",
       "      <td>CAPE</td>\n",
       "      <td>EC120</td>\n",
       "      <td>1L</td>\n",
       "      <td>12.0</td>\n",
       "      <td>APPLE GRANNY SMITH</td>\n",
       "      <td>2020-03-10</td>\n",
       "      <td>108.0</td>\n",
       "      <td>112.0</td>\n",
       "      <td>3236.0</td>\n",
       "      <td>29</td>\n",
       "      <td>348.0</td>\n",
       "      <td>0</td>\n",
       "      <td>9.30</td>\n",
       "    </tr>\n",
       "    <tr>\n",
       "      <th>1</th>\n",
       "      <td>CAPE</td>\n",
       "      <td>M4183</td>\n",
       "      <td>1L</td>\n",
       "      <td>18.3</td>\n",
       "      <td>APPLE GOLDEN DELICIOUS</td>\n",
       "      <td>2020-09-09</td>\n",
       "      <td>150.0</td>\n",
       "      <td>170.0</td>\n",
       "      <td>51710.0</td>\n",
       "      <td>332</td>\n",
       "      <td>6075.6</td>\n",
       "      <td>822</td>\n",
       "      <td>8.51</td>\n",
       "    </tr>\n",
       "    <tr>\n",
       "      <th>2</th>\n",
       "      <td>GAUTENG</td>\n",
       "      <td>AT200</td>\n",
       "      <td>1L</td>\n",
       "      <td>20.0</td>\n",
       "      <td>AVOCADO PINKERTON</td>\n",
       "      <td>2020-05-05</td>\n",
       "      <td>70.0</td>\n",
       "      <td>80.0</td>\n",
       "      <td>4860.0</td>\n",
       "      <td>66</td>\n",
       "      <td>1320.0</td>\n",
       "      <td>50</td>\n",
       "      <td>3.68</td>\n",
       "    </tr>\n",
       "    <tr>\n",
       "      <th>3</th>\n",
       "      <td>TRANSVAAL</td>\n",
       "      <td>BJ090</td>\n",
       "      <td>1L</td>\n",
       "      <td>9.0</td>\n",
       "      <td>TOMATOES-LONG LIFE</td>\n",
       "      <td>2020-01-20</td>\n",
       "      <td>60.0</td>\n",
       "      <td>60.0</td>\n",
       "      <td>600.0</td>\n",
       "      <td>10</td>\n",
       "      <td>90.0</td>\n",
       "      <td>0</td>\n",
       "      <td>6.67</td>\n",
       "    </tr>\n",
       "    <tr>\n",
       "      <th>4</th>\n",
       "      <td>WESTERN FREESTATE</td>\n",
       "      <td>PP100</td>\n",
       "      <td>1R</td>\n",
       "      <td>10.0</td>\n",
       "      <td>POTATO SIFRA (WASHED)</td>\n",
       "      <td>2020-07-14</td>\n",
       "      <td>40.0</td>\n",
       "      <td>45.0</td>\n",
       "      <td>41530.0</td>\n",
       "      <td>927</td>\n",
       "      <td>9270.0</td>\n",
       "      <td>393</td>\n",
       "      <td>4.48</td>\n",
       "    </tr>\n",
       "  </tbody>\n",
       "</table>\n",
       "</div>"
      ],
      "text/plain": [
       "            Province Container Size_Grade  Weight_Kg             Commodities  \\\n",
       "0               CAPE     EC120         1L       12.0      APPLE GRANNY SMITH   \n",
       "1               CAPE     M4183         1L       18.3  APPLE GOLDEN DELICIOUS   \n",
       "2            GAUTENG     AT200         1L       20.0       AVOCADO PINKERTON   \n",
       "3          TRANSVAAL     BJ090         1L        9.0      TOMATOES-LONG LIFE   \n",
       "4  WESTERN FREESTATE     PP100         1R       10.0   POTATO SIFRA (WASHED)   \n",
       "\n",
       "         Date  Low_Price  High_Price  Sales_Total  Total_Qty_Sold  \\\n",
       "0  2020-03-10      108.0       112.0       3236.0              29   \n",
       "1  2020-09-09      150.0       170.0      51710.0             332   \n",
       "2  2020-05-05       70.0        80.0       4860.0              66   \n",
       "3  2020-01-20       60.0        60.0        600.0              10   \n",
       "4  2020-07-14       40.0        45.0      41530.0             927   \n",
       "\n",
       "   Total_Kg_Sold  Stock_On_Hand  avg_price_per_kg  \n",
       "0          348.0              0              9.30  \n",
       "1         6075.6            822              8.51  \n",
       "2         1320.0             50              3.68  \n",
       "3           90.0              0              6.67  \n",
       "4         9270.0            393              4.48  "
      ]
     },
     "execution_count": 3,
     "metadata": {},
     "output_type": "execute_result"
    }
   ],
   "source": [
    "df_train.head()# explore the data"
   ]
  },
  {
   "cell_type": "code",
   "execution_count": 4,
   "metadata": {},
   "outputs": [
    {
     "name": "stdout",
     "output_type": "stream",
     "text": [
      "<class 'pandas.core.frame.DataFrame'>\n",
      "RangeIndex: 64376 entries, 0 to 64375\n",
      "Data columns (total 13 columns):\n",
      " #   Column            Non-Null Count  Dtype  \n",
      "---  ------            --------------  -----  \n",
      " 0   Province          64376 non-null  object \n",
      " 1   Container         64376 non-null  object \n",
      " 2   Size_Grade        64376 non-null  object \n",
      " 3   Weight_Kg         64376 non-null  float64\n",
      " 4   Commodities       64376 non-null  object \n",
      " 5   Date              64376 non-null  object \n",
      " 6   Low_Price         64376 non-null  float64\n",
      " 7   High_Price        64376 non-null  float64\n",
      " 8   Sales_Total       64376 non-null  float64\n",
      " 9   Total_Qty_Sold    64376 non-null  int64  \n",
      " 10  Total_Kg_Sold     64376 non-null  float64\n",
      " 11  Stock_On_Hand     64376 non-null  int64  \n",
      " 12  avg_price_per_kg  64376 non-null  float64\n",
      "dtypes: float64(6), int64(2), object(5)\n",
      "memory usage: 6.4+ MB\n"
     ]
    }
   ],
   "source": [
    "df_train.info()"
   ]
  },
  {
   "cell_type": "code",
   "execution_count": 5,
   "metadata": {},
   "outputs": [
    {
     "data": {
      "text/plain": [
       "Province            0\n",
       "Container           0\n",
       "Size_Grade          0\n",
       "Weight_Kg           0\n",
       "Commodities         0\n",
       "Date                0\n",
       "Low_Price           0\n",
       "High_Price          0\n",
       "Sales_Total         0\n",
       "Total_Qty_Sold      0\n",
       "Total_Kg_Sold       0\n",
       "Stock_On_Hand       0\n",
       "avg_price_per_kg    0\n",
       "dtype: int64"
      ]
     },
     "execution_count": 5,
     "metadata": {},
     "output_type": "execute_result"
    }
   ],
   "source": [
    "df_train.isnull().sum()"
   ]
  },
  {
   "cell_type": "markdown",
   "metadata": {},
   "source": [
    "The first step in our datacleaning process is to check for null values and decide how to deal with them. As we can see the table has 13 columns, all the columns are set as non_ null which tells us that we dont have any null values to deal with. \n",
    "If we have a look at the data types, we can already tell that most of the data types are appropriate for the columns, The only data type that we could change would be the date column, should we need the date column in our data analysis or model building phase it would be easier to deal with it as a datetime datatype rather than an object."
   ]
  },
  {
   "cell_type": "code",
   "execution_count": 6,
   "metadata": {},
   "outputs": [],
   "source": [
    "df_train['Date'] = pd.to_datetime(df_train['Date']) # change the date column from string datatype\n",
    "                                                    # to datetime datatype"
   ]
  },
  {
   "cell_type": "code",
   "execution_count": 7,
   "metadata": {},
   "outputs": [
    {
     "name": "stdout",
     "output_type": "stream",
     "text": [
      "<class 'pandas.core.frame.DataFrame'>\n",
      "RangeIndex: 64376 entries, 0 to 64375\n",
      "Data columns (total 13 columns):\n",
      " #   Column            Non-Null Count  Dtype         \n",
      "---  ------            --------------  -----         \n",
      " 0   Province          64376 non-null  object        \n",
      " 1   Container         64376 non-null  object        \n",
      " 2   Size_Grade        64376 non-null  object        \n",
      " 3   Weight_Kg         64376 non-null  float64       \n",
      " 4   Commodities       64376 non-null  object        \n",
      " 5   Date              64376 non-null  datetime64[ns]\n",
      " 6   Low_Price         64376 non-null  float64       \n",
      " 7   High_Price        64376 non-null  float64       \n",
      " 8   Sales_Total       64376 non-null  float64       \n",
      " 9   Total_Qty_Sold    64376 non-null  int64         \n",
      " 10  Total_Kg_Sold     64376 non-null  float64       \n",
      " 11  Stock_On_Hand     64376 non-null  int64         \n",
      " 12  avg_price_per_kg  64376 non-null  float64       \n",
      "dtypes: datetime64[ns](1), float64(6), int64(2), object(4)\n",
      "memory usage: 6.4+ MB\n"
     ]
    }
   ],
   "source": [
    "df_train.info() # lets confirm our changes"
   ]
  },
  {
   "cell_type": "markdown",
   "metadata": {},
   "source": [
    "# Phase 3: Exploratory Data Analysis"
   ]
  },
  {
   "cell_type": "markdown",
   "metadata": {},
   "source": [
    "## Univariate Analysis"
   ]
  },
  {
   "cell_type": "markdown",
   "metadata": {},
   "source": [
    "Lets analyse each feature to see what insights we can gain from them. As we can see, we have 5 categorical data types and 8 numerical datatypes. We will analyse the numerical data types using descriptive statistics."
   ]
  },
  {
   "cell_type": "code",
   "execution_count": 8,
   "metadata": {},
   "outputs": [
    {
     "data": {
      "text/html": [
       "<div>\n",
       "<style scoped>\n",
       "    .dataframe tbody tr th:only-of-type {\n",
       "        vertical-align: middle;\n",
       "    }\n",
       "\n",
       "    .dataframe tbody tr th {\n",
       "        vertical-align: top;\n",
       "    }\n",
       "\n",
       "    .dataframe thead th {\n",
       "        text-align: right;\n",
       "    }\n",
       "</style>\n",
       "<table border=\"1\" class=\"dataframe\">\n",
       "  <thead>\n",
       "    <tr style=\"text-align: right;\">\n",
       "      <th></th>\n",
       "      <th>Weight_Kg</th>\n",
       "      <th>Low_Price</th>\n",
       "      <th>High_Price</th>\n",
       "      <th>Sales_Total</th>\n",
       "      <th>Total_Qty_Sold</th>\n",
       "      <th>Total_Kg_Sold</th>\n",
       "      <th>Stock_On_Hand</th>\n",
       "      <th>avg_price_per_kg</th>\n",
       "    </tr>\n",
       "  </thead>\n",
       "  <tbody>\n",
       "    <tr>\n",
       "      <th>count</th>\n",
       "      <td>1952.000000</td>\n",
       "      <td>1952.000000</td>\n",
       "      <td>1952.000000</td>\n",
       "      <td>1952.000000</td>\n",
       "      <td>1952.000000</td>\n",
       "      <td>1952.000000</td>\n",
       "      <td>1952.000000</td>\n",
       "      <td>1952.000000</td>\n",
       "    </tr>\n",
       "    <tr>\n",
       "      <th>mean</th>\n",
       "      <td>40.460912</td>\n",
       "      <td>174.307377</td>\n",
       "      <td>215.648053</td>\n",
       "      <td>20053.533811</td>\n",
       "      <td>174.510758</td>\n",
       "      <td>2960.176332</td>\n",
       "      <td>408.393955</td>\n",
       "      <td>6.778893</td>\n",
       "    </tr>\n",
       "    <tr>\n",
       "      <th>std</th>\n",
       "      <td>99.655169</td>\n",
       "      <td>373.553578</td>\n",
       "      <td>433.546159</td>\n",
       "      <td>39005.069445</td>\n",
       "      <td>308.810797</td>\n",
       "      <td>6097.416527</td>\n",
       "      <td>724.450582</td>\n",
       "      <td>2.248744</td>\n",
       "    </tr>\n",
       "    <tr>\n",
       "      <th>min</th>\n",
       "      <td>3.000000</td>\n",
       "      <td>2.000000</td>\n",
       "      <td>5.000000</td>\n",
       "      <td>5.000000</td>\n",
       "      <td>1.000000</td>\n",
       "      <td>3.000000</td>\n",
       "      <td>0.000000</td>\n",
       "      <td>0.250000</td>\n",
       "    </tr>\n",
       "    <tr>\n",
       "      <th>25%</th>\n",
       "      <td>9.000000</td>\n",
       "      <td>50.000000</td>\n",
       "      <td>60.000000</td>\n",
       "      <td>1325.000000</td>\n",
       "      <td>12.000000</td>\n",
       "      <td>219.600000</td>\n",
       "      <td>9.000000</td>\n",
       "      <td>5.460000</td>\n",
       "    </tr>\n",
       "    <tr>\n",
       "      <th>50%</th>\n",
       "      <td>12.000000</td>\n",
       "      <td>80.000000</td>\n",
       "      <td>108.000000</td>\n",
       "      <td>5495.000000</td>\n",
       "      <td>64.000000</td>\n",
       "      <td>853.500000</td>\n",
       "      <td>126.500000</td>\n",
       "      <td>6.670000</td>\n",
       "    </tr>\n",
       "    <tr>\n",
       "      <th>75%</th>\n",
       "      <td>18.300000</td>\n",
       "      <td>127.250000</td>\n",
       "      <td>160.000000</td>\n",
       "      <td>21082.500000</td>\n",
       "      <td>200.000000</td>\n",
       "      <td>3093.525000</td>\n",
       "      <td>468.000000</td>\n",
       "      <td>8.280000</td>\n",
       "    </tr>\n",
       "    <tr>\n",
       "      <th>max</th>\n",
       "      <td>400.000000</td>\n",
       "      <td>2300.000000</td>\n",
       "      <td>3300.000000</td>\n",
       "      <td>369464.000000</td>\n",
       "      <td>4237.000000</td>\n",
       "      <td>74000.000000</td>\n",
       "      <td>6400.000000</td>\n",
       "      <td>21.240000</td>\n",
       "    </tr>\n",
       "  </tbody>\n",
       "</table>\n",
       "</div>"
      ],
      "text/plain": [
       "         Weight_Kg    Low_Price   High_Price    Sales_Total  Total_Qty_Sold  \\\n",
       "count  1952.000000  1952.000000  1952.000000    1952.000000     1952.000000   \n",
       "mean     40.460912   174.307377   215.648053   20053.533811      174.510758   \n",
       "std      99.655169   373.553578   433.546159   39005.069445      308.810797   \n",
       "min       3.000000     2.000000     5.000000       5.000000        1.000000   \n",
       "25%       9.000000    50.000000    60.000000    1325.000000       12.000000   \n",
       "50%      12.000000    80.000000   108.000000    5495.000000       64.000000   \n",
       "75%      18.300000   127.250000   160.000000   21082.500000      200.000000   \n",
       "max     400.000000  2300.000000  3300.000000  369464.000000     4237.000000   \n",
       "\n",
       "       Total_Kg_Sold  Stock_On_Hand  avg_price_per_kg  \n",
       "count    1952.000000    1952.000000       1952.000000  \n",
       "mean     2960.176332     408.393955          6.778893  \n",
       "std      6097.416527     724.450582          2.248744  \n",
       "min         3.000000       0.000000          0.250000  \n",
       "25%       219.600000       9.000000          5.460000  \n",
       "50%       853.500000     126.500000          6.670000  \n",
       "75%      3093.525000     468.000000          8.280000  \n",
       "max     74000.000000    6400.000000         21.240000  "
      ]
     },
     "execution_count": 8,
     "metadata": {},
     "output_type": "execute_result"
    }
   ],
   "source": [
    "new_df_train = df_train[df_train.Commodities == 'APPLE GOLDEN DELICIOUS'] # filter for APPLE GOLDEN DELICIOUS\n",
    "new_df_train.describe()# calculates our 5 number summary as well as our measures of central tendency"
   ]
  },
  {
   "cell_type": "markdown",
   "metadata": {},
   "source": [
    "From this breakdown we can see that the maximum average price per kg we have sold our golden apples for is R21.24 and the minimum is R0.25."
   ]
  },
  {
   "cell_type": "code",
   "execution_count": 9,
   "metadata": {},
   "outputs": [
    {
     "data": {
      "text/plain": [
       "Weight_Kg           3.328254\n",
       "Low_Price           4.222672\n",
       "High_Price          3.828819\n",
       "Sales_Total         4.250317\n",
       "Total_Qty_Sold      4.445169\n",
       "Total_Kg_Sold       5.529586\n",
       "Stock_On_Hand       3.391815\n",
       "avg_price_per_kg    0.082452\n",
       "dtype: float64"
      ]
     },
     "execution_count": 9,
     "metadata": {},
     "output_type": "execute_result"
    }
   ],
   "source": [
    "new_df_train.skew()"
   ]
  },
  {
   "cell_type": "markdown",
   "metadata": {},
   "source": [
    "From this analysis we can see that almost all of our features have a high positive skew meaning that most of our data is skewed to the left. "
   ]
  },
  {
   "cell_type": "code",
   "execution_count": 10,
   "metadata": {},
   "outputs": [
    {
     "data": {
      "text/plain": [
       "Weight_Kg            9.109698\n",
       "Low_Price           17.073369\n",
       "High_Price          13.630768\n",
       "Sales_Total         24.200524\n",
       "Total_Qty_Sold      32.338123\n",
       "Total_Kg_Sold       45.153801\n",
       "Stock_On_Hand       14.671224\n",
       "avg_price_per_kg     1.042921\n",
       "dtype: float64"
      ]
     },
     "execution_count": 10,
     "metadata": {},
     "output_type": "execute_result"
    }
   ],
   "source": [
    "new_df_train.kurtosis()"
   ]
  },
  {
   "cell_type": "markdown",
   "metadata": {},
   "source": [
    "This indicates that most of our data has High kurtosis which indicates a large number of outliers exist in our data. Why is that?? maybe because the quantities purchased from the market were varied. Some people purchased 400 kg worth of apples, probably for resale at wholesalers and some bought 3kg worth of apples e.g maybe for household or for resale at a street corner. Therefore the skewness and kurtosis of most of our columns is to be expected.However, we can see that our avrage price per kg is fairly symmetrical and a low kutosis whis is to be expected because the avg_price_per_kg column is a calculated column that has been averaged and calculated per kg."
   ]
  },
  {
   "cell_type": "markdown",
   "metadata": {},
   "source": [
    " Lets look at the distribution of our numerical features to get a better understanding."
   ]
  },
  {
   "cell_type": "code",
   "execution_count": 11,
   "metadata": {},
   "outputs": [
    {
     "data": {
      "image/png": "[encoded data removed]",
      "text/plain": [
       "<Figure size 720x720 with 9 Axes>"
      ]
     },
     "metadata": {
      "needs_background": "light"
     },
     "output_type": "display_data"
    }
   ],
   "source": [
    "columns = ['Weight_Kg', 'Low_Price', 'High_Price', 'Sales_Total', 'Total_Qty_Sold', 'Stock_On_Hand','avg_price_per_kg' ] # create a list of all numerical columns\n",
    "new_df_train[columns].hist(figsize=(10,10));"
   ]
  },
  {
   "cell_type": "markdown",
   "metadata": {},
   "source": [
    "As expected, our average price per kg follows a normal distribution with most of our prices lieing on the R5 to R10 range. However the rest of our variables are affeted a lot by outliers."
   ]
  },
  {
   "cell_type": "markdown",
   "metadata": {},
   "source": [
    "Lets draw boxplots on our columns to confirm the outliers."
   ]
  },
  {
   "cell_type": "code",
   "execution_count": 12,
   "metadata": {},
   "outputs": [
    {
     "data": {
      "text/plain": [
       "<AxesSubplot:xlabel='Weight_Kg'>"
      ]
     },
     "execution_count": 12,
     "metadata": {},
     "output_type": "execute_result"
    },
    {
     "data": {
      "image/png": "[encoded data removed]",
      "text/plain": [
       "<Figure size 432x288 with 1 Axes>"
      ]
     },
     "metadata": {
      "needs_background": "light"
     },
     "output_type": "display_data"
    }
   ],
   "source": [
    "\n",
    "sns.boxplot(x='Weight_Kg', data=new_df_train)"
   ]
  },
  {
   "cell_type": "code",
   "execution_count": 13,
   "metadata": {},
   "outputs": [
    {
     "data": {
      "text/plain": [
       "<AxesSubplot:xlabel='Stock_On_Hand'>"
      ]
     },
     "execution_count": 13,
     "metadata": {},
     "output_type": "execute_result"
    },
    {
     "data": {
      "image/png": "[encoded data removed]",
      "text/plain": [
       "<Figure size 432x288 with 1 Axes>"
      ]
     },
     "metadata": {
      "needs_background": "light"
     },
     "output_type": "display_data"
    }
   ],
   "source": [
    "sns.boxplot(x = 'Stock_On_Hand', data=new_df_train, orient=\"h\", palette=\"Set2\")"
   ]
  },
  {
   "cell_type": "code",
   "execution_count": 14,
   "metadata": {},
   "outputs": [
    {
     "data": {
      "text/plain": [
       "<AxesSubplot:xlabel='avg_price_per_kg'>"
      ]
     },
     "execution_count": 14,
     "metadata": {},
     "output_type": "execute_result"
    },
    {
     "data": {
      "image/png": "[encoded data removed]",
      "text/plain": [
       "<Figure size 432x288 with 1 Axes>"
      ]
     },
     "metadata": {
      "needs_background": "light"
     },
     "output_type": "display_data"
    }
   ],
   "source": [
    "sns.boxplot(x='avg_price_per_kg', data=new_df_train)"
   ]
  },
  {
   "cell_type": "code",
   "execution_count": 15,
   "metadata": {},
   "outputs": [
    {
     "data": {
      "text/plain": [
       "<AxesSubplot:xlabel='Sales_Total'>"
      ]
     },
     "execution_count": 15,
     "metadata": {},
     "output_type": "execute_result"
    },
    {
     "data": {
      "image/png": "[encoded data removed]",
      "text/plain": [
       "<Figure size 432x288 with 1 Axes>"
      ]
     },
     "metadata": {
      "needs_background": "light"
     },
     "output_type": "display_data"
    }
   ],
   "source": [
    "sns.boxplot(x='Sales_Total', data=new_df_train)\n"
   ]
  },
  {
   "cell_type": "code",
   "execution_count": 16,
   "metadata": {},
   "outputs": [
    {
     "data": {
      "text/plain": [
       "<AxesSubplot:xlabel='Total_Qty_Sold'>"
      ]
     },
     "execution_count": 16,
     "metadata": {},
     "output_type": "execute_result"
    },
    {
     "data": {
      "image/png": "[encoded data removed]",
      "text/plain": [
       "<Figure size 432x288 with 1 Axes>"
      ]
     },
     "metadata": {
      "needs_background": "light"
     },
     "output_type": "display_data"
    }
   ],
   "source": [
    "sns.boxplot(x='Total_Qty_Sold', data=new_df_train)"
   ]
  },
  {
   "cell_type": "markdown",
   "metadata": {},
   "source": [
    "From the box plots above we can clearly see where our outliers are and can"
   ]
  },
  {
   "cell_type": "markdown",
   "metadata": {},
   "source": [
    "Let us remove the outliers to see if we can get a more normal distribution of our numerical features."
   ]
  },
  {
   "cell_type": "code",
   "execution_count": 17,
   "metadata": {},
   "outputs": [],
   "source": [
    "df_train_o = new_df_train[new_df_train['Weight_Kg']<= 20]\n",
    "df_train_o = df_train_o[df_train_o['Sales_Total']<= 50000]\n",
    "df_train_o = df_train_o[df_train_o['avg_price_per_kg']<= 15]\n",
    "df_train_o = df_train_o[df_train_o['Stock_On_Hand']<= 1300]\n",
    "df_train_o = df_train_o[df_train_o['Total_Qty_Sold']<= 1300]"
   ]
  },
  {
   "cell_type": "code",
   "execution_count": 18,
   "metadata": {},
   "outputs": [
    {
     "name": "stdout",
     "output_type": "stream",
     "text": [
      "(1526, 13)\n"
     ]
    },
    {
     "data": {
      "text/html": [
       "<div>\n",
       "<style scoped>\n",
       "    .dataframe tbody tr th:only-of-type {\n",
       "        vertical-align: middle;\n",
       "    }\n",
       "\n",
       "    .dataframe tbody tr th {\n",
       "        vertical-align: top;\n",
       "    }\n",
       "\n",
       "    .dataframe thead th {\n",
       "        text-align: right;\n",
       "    }\n",
       "</style>\n",
       "<table border=\"1\" class=\"dataframe\">\n",
       "  <thead>\n",
       "    <tr style=\"text-align: right;\">\n",
       "      <th></th>\n",
       "      <th>Weight_Kg</th>\n",
       "      <th>Low_Price</th>\n",
       "      <th>High_Price</th>\n",
       "      <th>Sales_Total</th>\n",
       "      <th>Total_Qty_Sold</th>\n",
       "      <th>Total_Kg_Sold</th>\n",
       "      <th>Stock_On_Hand</th>\n",
       "      <th>avg_price_per_kg</th>\n",
       "    </tr>\n",
       "  </thead>\n",
       "  <tbody>\n",
       "    <tr>\n",
       "      <th>count</th>\n",
       "      <td>1526.000000</td>\n",
       "      <td>1526.000000</td>\n",
       "      <td>1526.000000</td>\n",
       "      <td>1526.000000</td>\n",
       "      <td>1526.000000</td>\n",
       "      <td>1526.000000</td>\n",
       "      <td>1526.000000</td>\n",
       "      <td>1526.000000</td>\n",
       "    </tr>\n",
       "    <tr>\n",
       "      <th>mean</th>\n",
       "      <td>12.635256</td>\n",
       "      <td>84.436435</td>\n",
       "      <td>100.823067</td>\n",
       "      <td>8852.199869</td>\n",
       "      <td>104.703145</td>\n",
       "      <td>1270.093578</td>\n",
       "      <td>231.437746</td>\n",
       "      <td>6.907136</td>\n",
       "    </tr>\n",
       "    <tr>\n",
       "      <th>std</th>\n",
       "      <td>4.029132</td>\n",
       "      <td>46.685901</td>\n",
       "      <td>52.746000</td>\n",
       "      <td>11324.096521</td>\n",
       "      <td>136.856293</td>\n",
       "      <td>1599.035083</td>\n",
       "      <td>289.767852</td>\n",
       "      <td>2.182577</td>\n",
       "    </tr>\n",
       "    <tr>\n",
       "      <th>min</th>\n",
       "      <td>3.000000</td>\n",
       "      <td>5.000000</td>\n",
       "      <td>5.000000</td>\n",
       "      <td>5.000000</td>\n",
       "      <td>1.000000</td>\n",
       "      <td>3.000000</td>\n",
       "      <td>0.000000</td>\n",
       "      <td>0.550000</td>\n",
       "    </tr>\n",
       "    <tr>\n",
       "      <th>25%</th>\n",
       "      <td>9.000000</td>\n",
       "      <td>50.000000</td>\n",
       "      <td>60.000000</td>\n",
       "      <td>971.250000</td>\n",
       "      <td>12.000000</td>\n",
       "      <td>148.050000</td>\n",
       "      <td>8.000000</td>\n",
       "      <td>5.560000</td>\n",
       "    </tr>\n",
       "    <tr>\n",
       "      <th>50%</th>\n",
       "      <td>12.000000</td>\n",
       "      <td>70.000000</td>\n",
       "      <td>84.000000</td>\n",
       "      <td>4060.000000</td>\n",
       "      <td>54.000000</td>\n",
       "      <td>659.400000</td>\n",
       "      <td>109.000000</td>\n",
       "      <td>6.685000</td>\n",
       "    </tr>\n",
       "    <tr>\n",
       "      <th>75%</th>\n",
       "      <td>18.300000</td>\n",
       "      <td>120.000000</td>\n",
       "      <td>140.000000</td>\n",
       "      <td>11550.000000</td>\n",
       "      <td>143.500000</td>\n",
       "      <td>1733.550000</td>\n",
       "      <td>348.750000</td>\n",
       "      <td>8.397500</td>\n",
       "    </tr>\n",
       "    <tr>\n",
       "      <th>max</th>\n",
       "      <td>18.300000</td>\n",
       "      <td>260.000000</td>\n",
       "      <td>270.000000</td>\n",
       "      <td>49860.000000</td>\n",
       "      <td>923.000000</td>\n",
       "      <td>8307.000000</td>\n",
       "      <td>1292.000000</td>\n",
       "      <td>14.210000</td>\n",
       "    </tr>\n",
       "  </tbody>\n",
       "</table>\n",
       "</div>"
      ],
      "text/plain": [
       "         Weight_Kg    Low_Price   High_Price   Sales_Total  Total_Qty_Sold  \\\n",
       "count  1526.000000  1526.000000  1526.000000   1526.000000     1526.000000   \n",
       "mean     12.635256    84.436435   100.823067   8852.199869      104.703145   \n",
       "std       4.029132    46.685901    52.746000  11324.096521      136.856293   \n",
       "min       3.000000     5.000000     5.000000      5.000000        1.000000   \n",
       "25%       9.000000    50.000000    60.000000    971.250000       12.000000   \n",
       "50%      12.000000    70.000000    84.000000   4060.000000       54.000000   \n",
       "75%      18.300000   120.000000   140.000000  11550.000000      143.500000   \n",
       "max      18.300000   260.000000   270.000000  49860.000000      923.000000   \n",
       "\n",
       "       Total_Kg_Sold  Stock_On_Hand  avg_price_per_kg  \n",
       "count    1526.000000    1526.000000       1526.000000  \n",
       "mean     1270.093578     231.437746          6.907136  \n",
       "std      1599.035083     289.767852          2.182577  \n",
       "min         3.000000       0.000000          0.550000  \n",
       "25%       148.050000       8.000000          5.560000  \n",
       "50%       659.400000     109.000000          6.685000  \n",
       "75%      1733.550000     348.750000          8.397500  \n",
       "max      8307.000000    1292.000000         14.210000  "
      ]
     },
     "execution_count": 18,
     "metadata": {},
     "output_type": "execute_result"
    }
   ],
   "source": [
    "print(df_train_o.shape)\n",
    "df_train_o.describe()"
   ]
  },
  {
   "cell_type": "markdown",
   "metadata": {},
   "source": [
    "After removing the outliers we can see that our data is still enough to create a model out of. Lets see our distrbutions now."
   ]
  },
  {
   "cell_type": "code",
   "execution_count": 19,
   "metadata": {},
   "outputs": [
    {
     "data": {
      "text/plain": [
       "array([[<AxesSubplot:title={'center':'Weight_Kg'}>,\n",
       "        <AxesSubplot:title={'center':'Low_Price'}>,\n",
       "        <AxesSubplot:title={'center':'High_Price'}>],\n",
       "       [<AxesSubplot:title={'center':'Sales_Total'}>,\n",
       "        <AxesSubplot:title={'center':'Total_Qty_Sold'}>,\n",
       "        <AxesSubplot:title={'center':'Stock_On_Hand'}>],\n",
       "       [<AxesSubplot:title={'center':'avg_price_per_kg'}>,\n",
       "        <AxesSubplot:>, <AxesSubplot:>]], dtype=object)"
      ]
     },
     "execution_count": 19,
     "metadata": {},
     "output_type": "execute_result"
    },
    {
     "data": {
      "image/png": "[encoded data removed]",
      "text/plain": [
       "<Figure size 720x720 with 9 Axes>"
      ]
     },
     "metadata": {
      "needs_background": "light"
     },
     "output_type": "display_data"
    }
   ],
   "source": [
    "TotalLog = np.log(df_train_o[columns] + 1)\n",
    "TotalLog.hist(color='green', edgecolor='white', figsize=(10,10))"
   ]
  },
  {
   "cell_type": "markdown",
   "metadata": {},
   "source": [
    "## Multivariate Analysis"
   ]
  },
  {
   "cell_type": "markdown",
   "metadata": {},
   "source": [
    "We will start by first analysing the relationships between our features."
   ]
  },
  {
   "cell_type": "markdown",
   "metadata": {},
   "source": [
    "At this stage I would like to seperate the Date column into day, month and year so that I can analyse the relationships it has in this dataset.\n"
   ]
  },
  {
   "cell_type": "code",
   "execution_count": 20,
   "metadata": {},
   "outputs": [],
   "source": [
    "df_train_o['day'] = df_train_o['Date'].dt.day\n",
    "df_train_o['month'] = df_train_o['Date'].dt.month\n",
    "df_train_o['year'] = df_train_o['Date'].dt.year"
   ]
  },
  {
   "cell_type": "code",
   "execution_count": 21,
   "metadata": {},
   "outputs": [
    {
     "name": "stdout",
     "output_type": "stream",
     "text": [
      "<class 'pandas.core.frame.DataFrame'>\n",
      "Int64Index: 1526 entries, 7 to 64310\n",
      "Data columns (total 16 columns):\n",
      " #   Column            Non-Null Count  Dtype         \n",
      "---  ------            --------------  -----         \n",
      " 0   Province          1526 non-null   object        \n",
      " 1   Container         1526 non-null   object        \n",
      " 2   Size_Grade        1526 non-null   object        \n",
      " 3   Weight_Kg         1526 non-null   float64       \n",
      " 4   Commodities       1526 non-null   object        \n",
      " 5   Date              1526 non-null   datetime64[ns]\n",
      " 6   Low_Price         1526 non-null   float64       \n",
      " 7   High_Price        1526 non-null   float64       \n",
      " 8   Sales_Total       1526 non-null   float64       \n",
      " 9   Total_Qty_Sold    1526 non-null   int64         \n",
      " 10  Total_Kg_Sold     1526 non-null   float64       \n",
      " 11  Stock_On_Hand     1526 non-null   int64         \n",
      " 12  avg_price_per_kg  1526 non-null   float64       \n",
      " 13  day               1526 non-null   int64         \n",
      " 14  month             1526 non-null   int64         \n",
      " 15  year              1526 non-null   int64         \n",
      "dtypes: datetime64[ns](1), float64(6), int64(5), object(4)\n",
      "memory usage: 202.7+ KB\n"
     ]
    }
   ],
   "source": [
    "df_train_o.info()"
   ]
  },
  {
   "cell_type": "code",
   "execution_count": 22,
   "metadata": {},
   "outputs": [
    {
     "data": {
      "text/html": [
       "<div>\n",
       "<style scoped>\n",
       "    .dataframe tbody tr th:only-of-type {\n",
       "        vertical-align: middle;\n",
       "    }\n",
       "\n",
       "    .dataframe tbody tr th {\n",
       "        vertical-align: top;\n",
       "    }\n",
       "\n",
       "    .dataframe thead th {\n",
       "        text-align: right;\n",
       "    }\n",
       "</style>\n",
       "<table border=\"1\" class=\"dataframe\">\n",
       "  <thead>\n",
       "    <tr style=\"text-align: right;\">\n",
       "      <th></th>\n",
       "      <th>Province</th>\n",
       "      <th>Container</th>\n",
       "      <th>Size_Grade</th>\n",
       "      <th>Weight_Kg</th>\n",
       "      <th>Commodities</th>\n",
       "      <th>Date</th>\n",
       "      <th>Low_Price</th>\n",
       "      <th>High_Price</th>\n",
       "      <th>Sales_Total</th>\n",
       "      <th>Total_Qty_Sold</th>\n",
       "      <th>Total_Kg_Sold</th>\n",
       "      <th>Stock_On_Hand</th>\n",
       "      <th>avg_price_per_kg</th>\n",
       "      <th>day</th>\n",
       "      <th>month</th>\n",
       "      <th>year</th>\n",
       "    </tr>\n",
       "  </thead>\n",
       "  <tbody>\n",
       "    <tr>\n",
       "      <th>7</th>\n",
       "      <td>CAPE</td>\n",
       "      <td>JG110</td>\n",
       "      <td>2M</td>\n",
       "      <td>11.0</td>\n",
       "      <td>APPLE GOLDEN DELICIOUS</td>\n",
       "      <td>2020-04-14</td>\n",
       "      <td>50.0</td>\n",
       "      <td>50.0</td>\n",
       "      <td>16000.0</td>\n",
       "      <td>320</td>\n",
       "      <td>3520.0</td>\n",
       "      <td>0</td>\n",
       "      <td>4.55</td>\n",
       "      <td>14</td>\n",
       "      <td>4</td>\n",
       "      <td>2020</td>\n",
       "    </tr>\n",
       "    <tr>\n",
       "      <th>40</th>\n",
       "      <td>CAPE</td>\n",
       "      <td>M4183</td>\n",
       "      <td>1S</td>\n",
       "      <td>18.3</td>\n",
       "      <td>APPLE GOLDEN DELICIOUS</td>\n",
       "      <td>2020-05-04</td>\n",
       "      <td>80.0</td>\n",
       "      <td>120.0</td>\n",
       "      <td>32020.0</td>\n",
       "      <td>388</td>\n",
       "      <td>7100.4</td>\n",
       "      <td>443</td>\n",
       "      <td>4.51</td>\n",
       "      <td>4</td>\n",
       "      <td>5</td>\n",
       "      <td>2020</td>\n",
       "    </tr>\n",
       "    <tr>\n",
       "      <th>80</th>\n",
       "      <td>CAPE</td>\n",
       "      <td>JE090</td>\n",
       "      <td>2S</td>\n",
       "      <td>9.0</td>\n",
       "      <td>APPLE GOLDEN DELICIOUS</td>\n",
       "      <td>2020-03-13</td>\n",
       "      <td>55.0</td>\n",
       "      <td>55.0</td>\n",
       "      <td>4840.0</td>\n",
       "      <td>88</td>\n",
       "      <td>792.0</td>\n",
       "      <td>181</td>\n",
       "      <td>6.11</td>\n",
       "      <td>13</td>\n",
       "      <td>3</td>\n",
       "      <td>2020</td>\n",
       "    </tr>\n",
       "    <tr>\n",
       "      <th>117</th>\n",
       "      <td>CAPE</td>\n",
       "      <td>EC120</td>\n",
       "      <td>1M</td>\n",
       "      <td>12.0</td>\n",
       "      <td>APPLE GOLDEN DELICIOUS</td>\n",
       "      <td>2019-12-30</td>\n",
       "      <td>100.0</td>\n",
       "      <td>100.0</td>\n",
       "      <td>1200.0</td>\n",
       "      <td>12</td>\n",
       "      <td>144.0</td>\n",
       "      <td>119</td>\n",
       "      <td>8.33</td>\n",
       "      <td>30</td>\n",
       "      <td>12</td>\n",
       "      <td>2019</td>\n",
       "    </tr>\n",
       "    <tr>\n",
       "      <th>122</th>\n",
       "      <td>CAPE</td>\n",
       "      <td>JG110</td>\n",
       "      <td>2M</td>\n",
       "      <td>11.0</td>\n",
       "      <td>APPLE GOLDEN DELICIOUS</td>\n",
       "      <td>2020-08-05</td>\n",
       "      <td>70.0</td>\n",
       "      <td>70.0</td>\n",
       "      <td>5600.0</td>\n",
       "      <td>80</td>\n",
       "      <td>880.0</td>\n",
       "      <td>0</td>\n",
       "      <td>6.36</td>\n",
       "      <td>5</td>\n",
       "      <td>8</td>\n",
       "      <td>2020</td>\n",
       "    </tr>\n",
       "  </tbody>\n",
       "</table>\n",
       "</div>"
      ],
      "text/plain": [
       "    Province Container Size_Grade  Weight_Kg             Commodities  \\\n",
       "7       CAPE     JG110         2M       11.0  APPLE GOLDEN DELICIOUS   \n",
       "40      CAPE     M4183         1S       18.3  APPLE GOLDEN DELICIOUS   \n",
       "80      CAPE     JE090         2S        9.0  APPLE GOLDEN DELICIOUS   \n",
       "117     CAPE     EC120         1M       12.0  APPLE GOLDEN DELICIOUS   \n",
       "122     CAPE     JG110         2M       11.0  APPLE GOLDEN DELICIOUS   \n",
       "\n",
       "          Date  Low_Price  High_Price  Sales_Total  Total_Qty_Sold  \\\n",
       "7   2020-04-14       50.0        50.0      16000.0             320   \n",
       "40  2020-05-04       80.0       120.0      32020.0             388   \n",
       "80  2020-03-13       55.0        55.0       4840.0              88   \n",
       "117 2019-12-30      100.0       100.0       1200.0              12   \n",
       "122 2020-08-05       70.0        70.0       5600.0              80   \n",
       "\n",
       "     Total_Kg_Sold  Stock_On_Hand  avg_price_per_kg  day  month  year  \n",
       "7           3520.0              0              4.55   14      4  2020  \n",
       "40          7100.4            443              4.51    4      5  2020  \n",
       "80           792.0            181              6.11   13      3  2020  \n",
       "117          144.0            119              8.33   30     12  2019  \n",
       "122          880.0              0              6.36    5      8  2020  "
      ]
     },
     "execution_count": 22,
     "metadata": {},
     "output_type": "execute_result"
    }
   ],
   "source": [
    "df_train_o.head()"
   ]
  },
  {
   "cell_type": "markdown",
   "metadata": {},
   "source": [
    "We will first start by analysing our stocking capabilities which are in the Province and Weight_Kg columns. By looking at the relationship between the province were the produce is grown and the total KG's sold, we can then see which farmers give us the most sales."
   ]
  },
  {
   "cell_type": "code",
   "execution_count": 23,
   "metadata": {},
   "outputs": [
    {
     "data": {
      "image/png": "[encoded data removed]",
      "text/plain": [
       "<Figure size 432x288 with 1 Axes>"
      ]
     },
     "metadata": {
      "needs_background": "light"
     },
     "output_type": "display_data"
    }
   ],
   "source": [
    "sns.barplot(x = 'Total_Kg_Sold',y= 'Province', data = df_train_o, palette=\"hls\")\n",
    "plt.title(\"Province\");"
   ]
  },
  {
   "cell_type": "markdown",
   "metadata": {},
   "source": [
    "As we can see, most of the apples that we sold came from the Transvaal followed by the Cape"
   ]
  },
  {
   "cell_type": "code",
   "execution_count": 24,
   "metadata": {},
   "outputs": [
    {
     "data": {
      "image/png": "[encoded data removed]",
      "text/plain": [
       "<Figure size 1440x720 with 4 Axes>"
      ]
     },
     "metadata": {
      "needs_background": "light"
     },
     "output_type": "display_data"
    }
   ],
   "source": [
    "fig, ax = plt.subplots(2,2, figsize=(20,10))\n",
    "\n",
    "sns.barplot(x = 'month',y= 'Total_Kg_Sold', data = df_train_o, palette=\"hls\", ax=ax[0,0])\n",
    "sns.barplot(x = 'day',y= 'Total_Kg_Sold', data = df_train_o, palette=\"hls\", ax=ax[0,1])\n",
    "sns.barplot(x = 'month',y= 'avg_price_per_kg', data = df_train_o, palette=\"hls\", ax=ax[1,0])\n",
    "sns.barplot(x = 'day',y= 'avg_price_per_kg', data = df_train_o, palette=\"hls\", ax=ax[1,1])\n",
    "\n",
    "plt.show()"
   ]
  },
  {
   "cell_type": "markdown",
   "metadata": {},
   "source": [
    "The top two graphs above show us our sales in KG per month and per day. We can see that we've sold more apples in January, may and July then in the other months and our biggest sales quantities happened on the 20th of the month.\n",
    "\n",
    "The bottom two graphs above tell us the relationship between the months and days of the year and the  average price per kg. It tells us that the avg price per kg of apples is higher in December than in other months.These relationships can possibly guide our decisions on how much stock we need to have on hand on any given month."
   ]
  },
  {
   "cell_type": "code",
   "execution_count": 25,
   "metadata": {},
   "outputs": [
    {
     "data": {
      "image/png": "[encoded data removed]",
      "text/plain": [
       "<Figure size 432x288 with 1 Axes>"
      ]
     },
     "metadata": {
      "needs_background": "light"
     },
     "output_type": "display_data"
    }
   ],
   "source": [
    "sns.barplot(x = 'month',y= 'Stock_On_Hand', data = df_train_o, palette=\"hls\")\n",
    "plt.title(\"month\");"
   ]
  },
  {
   "cell_type": "markdown",
   "metadata": {},
   "source": [
    "The graph above shows us the months where we have the most stock in storage. We can use our predictions on purchase behaviour of our customers to decide how much stock to keep on any given month."
   ]
  },
  {
   "cell_type": "code",
   "execution_count": 26,
   "metadata": {},
   "outputs": [
    {
     "data": {
      "text/html": [
       "<div>\n",
       "<style scoped>\n",
       "    .dataframe tbody tr th:only-of-type {\n",
       "        vertical-align: middle;\n",
       "    }\n",
       "\n",
       "    .dataframe tbody tr th {\n",
       "        vertical-align: top;\n",
       "    }\n",
       "\n",
       "    .dataframe thead th {\n",
       "        text-align: right;\n",
       "    }\n",
       "</style>\n",
       "<table border=\"1\" class=\"dataframe\">\n",
       "  <thead>\n",
       "    <tr style=\"text-align: right;\">\n",
       "      <th></th>\n",
       "      <th>Weight_Kg</th>\n",
       "      <th>Low_Price</th>\n",
       "      <th>High_Price</th>\n",
       "      <th>Sales_Total</th>\n",
       "      <th>Total_Qty_Sold</th>\n",
       "      <th>Total_Kg_Sold</th>\n",
       "      <th>Stock_On_Hand</th>\n",
       "      <th>avg_price_per_kg</th>\n",
       "      <th>day</th>\n",
       "      <th>month</th>\n",
       "      <th>year</th>\n",
       "    </tr>\n",
       "  </thead>\n",
       "  <tbody>\n",
       "    <tr>\n",
       "      <th>Weight_Kg</th>\n",
       "      <td>1.000000</td>\n",
       "      <td>0.788554</td>\n",
       "      <td>0.874696</td>\n",
       "      <td>0.234361</td>\n",
       "      <td>-0.095921</td>\n",
       "      <td>0.147571</td>\n",
       "      <td>0.161826</td>\n",
       "      <td>0.485744</td>\n",
       "      <td>-0.060180</td>\n",
       "      <td>-0.073081</td>\n",
       "      <td>-0.045588</td>\n",
       "    </tr>\n",
       "    <tr>\n",
       "      <th>Low_Price</th>\n",
       "      <td>0.788554</td>\n",
       "      <td>1.000000</td>\n",
       "      <td>0.886864</td>\n",
       "      <td>0.144284</td>\n",
       "      <td>-0.156124</td>\n",
       "      <td>0.005982</td>\n",
       "      <td>0.089528</td>\n",
       "      <td>0.831026</td>\n",
       "      <td>-0.074253</td>\n",
       "      <td>0.022831</td>\n",
       "      <td>-0.153010</td>\n",
       "    </tr>\n",
       "    <tr>\n",
       "      <th>High_Price</th>\n",
       "      <td>0.874696</td>\n",
       "      <td>0.886864</td>\n",
       "      <td>1.000000</td>\n",
       "      <td>0.312705</td>\n",
       "      <td>-0.035650</td>\n",
       "      <td>0.176737</td>\n",
       "      <td>0.205196</td>\n",
       "      <td>0.772376</td>\n",
       "      <td>-0.072066</td>\n",
       "      <td>-0.012173</td>\n",
       "      <td>-0.130478</td>\n",
       "    </tr>\n",
       "    <tr>\n",
       "      <th>Sales_Total</th>\n",
       "      <td>0.234361</td>\n",
       "      <td>0.144284</td>\n",
       "      <td>0.312705</td>\n",
       "      <td>1.000000</td>\n",
       "      <td>0.830985</td>\n",
       "      <td>0.953019</td>\n",
       "      <td>0.215335</td>\n",
       "      <td>0.189959</td>\n",
       "      <td>-0.056709</td>\n",
       "      <td>-0.062858</td>\n",
       "      <td>0.042229</td>\n",
       "    </tr>\n",
       "    <tr>\n",
       "      <th>Total_Qty_Sold</th>\n",
       "      <td>-0.095921</td>\n",
       "      <td>-0.156124</td>\n",
       "      <td>-0.035650</td>\n",
       "      <td>0.830985</td>\n",
       "      <td>1.000000</td>\n",
       "      <td>0.923844</td>\n",
       "      <td>0.131386</td>\n",
       "      <td>-0.070477</td>\n",
       "      <td>-0.019124</td>\n",
       "      <td>-0.029160</td>\n",
       "      <td>0.056963</td>\n",
       "    </tr>\n",
       "    <tr>\n",
       "      <th>Total_Kg_Sold</th>\n",
       "      <td>0.147571</td>\n",
       "      <td>0.005982</td>\n",
       "      <td>0.176737</td>\n",
       "      <td>0.953019</td>\n",
       "      <td>0.923844</td>\n",
       "      <td>1.000000</td>\n",
       "      <td>0.191444</td>\n",
       "      <td>0.022730</td>\n",
       "      <td>-0.040291</td>\n",
       "      <td>-0.050316</td>\n",
       "      <td>0.057866</td>\n",
       "    </tr>\n",
       "    <tr>\n",
       "      <th>Stock_On_Hand</th>\n",
       "      <td>0.161826</td>\n",
       "      <td>0.089528</td>\n",
       "      <td>0.205196</td>\n",
       "      <td>0.215335</td>\n",
       "      <td>0.131386</td>\n",
       "      <td>0.191444</td>\n",
       "      <td>1.000000</td>\n",
       "      <td>0.128045</td>\n",
       "      <td>0.038944</td>\n",
       "      <td>-0.053472</td>\n",
       "      <td>-0.070896</td>\n",
       "    </tr>\n",
       "    <tr>\n",
       "      <th>avg_price_per_kg</th>\n",
       "      <td>0.485744</td>\n",
       "      <td>0.831026</td>\n",
       "      <td>0.772376</td>\n",
       "      <td>0.189959</td>\n",
       "      <td>-0.070477</td>\n",
       "      <td>0.022730</td>\n",
       "      <td>0.128045</td>\n",
       "      <td>1.000000</td>\n",
       "      <td>-0.080105</td>\n",
       "      <td>0.056267</td>\n",
       "      <td>-0.174513</td>\n",
       "    </tr>\n",
       "    <tr>\n",
       "      <th>day</th>\n",
       "      <td>-0.060180</td>\n",
       "      <td>-0.074253</td>\n",
       "      <td>-0.072066</td>\n",
       "      <td>-0.056709</td>\n",
       "      <td>-0.019124</td>\n",
       "      <td>-0.040291</td>\n",
       "      <td>0.038944</td>\n",
       "      <td>-0.080105</td>\n",
       "      <td>1.000000</td>\n",
       "      <td>0.020826</td>\n",
       "      <td>-0.019190</td>\n",
       "    </tr>\n",
       "    <tr>\n",
       "      <th>month</th>\n",
       "      <td>-0.073081</td>\n",
       "      <td>0.022831</td>\n",
       "      <td>-0.012173</td>\n",
       "      <td>-0.062858</td>\n",
       "      <td>-0.029160</td>\n",
       "      <td>-0.050316</td>\n",
       "      <td>-0.053472</td>\n",
       "      <td>0.056267</td>\n",
       "      <td>0.020826</td>\n",
       "      <td>1.000000</td>\n",
       "      <td>-0.429558</td>\n",
       "    </tr>\n",
       "    <tr>\n",
       "      <th>year</th>\n",
       "      <td>-0.045588</td>\n",
       "      <td>-0.153010</td>\n",
       "      <td>-0.130478</td>\n",
       "      <td>0.042229</td>\n",
       "      <td>0.056963</td>\n",
       "      <td>0.057866</td>\n",
       "      <td>-0.070896</td>\n",
       "      <td>-0.174513</td>\n",
       "      <td>-0.019190</td>\n",
       "      <td>-0.429558</td>\n",
       "      <td>1.000000</td>\n",
       "    </tr>\n",
       "  </tbody>\n",
       "</table>\n",
       "</div>"
      ],
      "text/plain": [
       "                  Weight_Kg  Low_Price  High_Price  Sales_Total  \\\n",
       "Weight_Kg          1.000000   0.788554    0.874696     0.234361   \n",
       "Low_Price          0.788554   1.000000    0.886864     0.144284   \n",
       "High_Price         0.874696   0.886864    1.000000     0.312705   \n",
       "Sales_Total        0.234361   0.144284    0.312705     1.000000   \n",
       "Total_Qty_Sold    -0.095921  -0.156124   -0.035650     0.830985   \n",
       "Total_Kg_Sold      0.147571   0.005982    0.176737     0.953019   \n",
       "Stock_On_Hand      0.161826   0.089528    0.205196     0.215335   \n",
       "avg_price_per_kg   0.485744   0.831026    0.772376     0.189959   \n",
       "day               -0.060180  -0.074253   -0.072066    -0.056709   \n",
       "month             -0.073081   0.022831   -0.012173    -0.062858   \n",
       "year              -0.045588  -0.153010   -0.130478     0.042229   \n",
       "\n",
       "                  Total_Qty_Sold  Total_Kg_Sold  Stock_On_Hand  \\\n",
       "Weight_Kg              -0.095921       0.147571       0.161826   \n",
       "Low_Price              -0.156124       0.005982       0.089528   \n",
       "High_Price             -0.035650       0.176737       0.205196   \n",
       "Sales_Total             0.830985       0.953019       0.215335   \n",
       "Total_Qty_Sold          1.000000       0.923844       0.131386   \n",
       "Total_Kg_Sold           0.923844       1.000000       0.191444   \n",
       "Stock_On_Hand           0.131386       0.191444       1.000000   \n",
       "avg_price_per_kg       -0.070477       0.022730       0.128045   \n",
       "day                    -0.019124      -0.040291       0.038944   \n",
       "month                  -0.029160      -0.050316      -0.053472   \n",
       "year                    0.056963       0.057866      -0.070896   \n",
       "\n",
       "                  avg_price_per_kg       day     month      year  \n",
       "Weight_Kg                 0.485744 -0.060180 -0.073081 -0.045588  \n",
       "Low_Price                 0.831026 -0.074253  0.022831 -0.153010  \n",
       "High_Price                0.772376 -0.072066 -0.012173 -0.130478  \n",
       "Sales_Total               0.189959 -0.056709 -0.062858  0.042229  \n",
       "Total_Qty_Sold           -0.070477 -0.019124 -0.029160  0.056963  \n",
       "Total_Kg_Sold             0.022730 -0.040291 -0.050316  0.057866  \n",
       "Stock_On_Hand             0.128045  0.038944 -0.053472 -0.070896  \n",
       "avg_price_per_kg          1.000000 -0.080105  0.056267 -0.174513  \n",
       "day                      -0.080105  1.000000  0.020826 -0.019190  \n",
       "month                     0.056267  0.020826  1.000000 -0.429558  \n",
       "year                     -0.174513 -0.019190 -0.429558  1.000000  "
      ]
     },
     "execution_count": 26,
     "metadata": {},
     "output_type": "execute_result"
    }
   ],
   "source": [
    "df_train_o.corr()"
   ]
  },
  {
   "cell_type": "code",
   "execution_count": 27,
   "metadata": {},
   "outputs": [
    {
     "data": {
      "image/png": "[encoded data removed]",
      "text/plain": [
       "<Figure size 432x288 with 2 Axes>"
      ]
     },
     "metadata": {
      "needs_background": "light"
     },
     "output_type": "display_data"
    }
   ],
   "source": [
    "heatmap = sns.heatmap(df_train_o.corr(), vmin=-1, vmax=1, annot=True)\n",
    "heatmap.set_title('Correlation Heatmap', fontdict={'fontsize':12}, pad=12);"
   ]
  },
  {
   "cell_type": "code",
   "execution_count": 28,
   "metadata": {},
   "outputs": [
    {
     "data": {
      "image/png": "[encoded data removed]",
      "text/plain": [
       "<Figure size 1224x72 with 2 Axes>"
      ]
     },
     "metadata": {
      "needs_background": "light"
     },
     "output_type": "display_data"
    }
   ],
   "source": [
    "num=df_train_o.select_dtypes(exclude='object')\n",
    "numcorr=num.corr()\n",
    "f,ax=plt.subplots(figsize=(17,1))\n",
    "sns.heatmap(numcorr.sort_values(by=['avg_price_per_kg'], ascending=False).head(1), cmap='PuRd_r')\n",
    "plt.title(\" Numerical features correlation with the avg_price_per_kg\", weight='bold', fontsize=18)\n",
    "plt.xticks(weight='bold')\n",
    "plt.yticks(weight='bold', color='dodgerblue', rotation=0)\n",
    "\n",
    "\n",
    "plt.show()"
   ]
  },
  {
   "cell_type": "markdown",
   "metadata": {},
   "source": [
    "The graphs above show us heat maps of the correlations between our data. "
   ]
  },
  {
   "cell_type": "markdown",
   "metadata": {},
   "source": [
    "## Dummy Variable Encoding"
   ]
  },
  {
   "cell_type": "markdown",
   "metadata": {},
   "source": [
    "We have already filtered the data to only include golden delicious apples as our commodities, so we will now drop the commodities column because it has the same repeated data. We will also drop our Date columns because we have already created day, month and year columns. We will also drop the year columns because we only have data for end 2019 to 2020 therefore the year will not make a difference on our preditions. "
   ]
  },
  {
   "cell_type": "code",
   "execution_count": 29,
   "metadata": {},
   "outputs": [],
   "source": [
    "df_train_o = df_train_o.drop(['Commodities','Date','year'], axis = 1)"
   ]
  },
  {
   "cell_type": "code",
   "execution_count": 30,
   "metadata": {},
   "outputs": [
    {
     "data": {
      "text/html": [
       "<div>\n",
       "<style scoped>\n",
       "    .dataframe tbody tr th:only-of-type {\n",
       "        vertical-align: middle;\n",
       "    }\n",
       "\n",
       "    .dataframe tbody tr th {\n",
       "        vertical-align: top;\n",
       "    }\n",
       "\n",
       "    .dataframe thead th {\n",
       "        text-align: right;\n",
       "    }\n",
       "</style>\n",
       "<table border=\"1\" class=\"dataframe\">\n",
       "  <thead>\n",
       "    <tr style=\"text-align: right;\">\n",
       "      <th></th>\n",
       "      <th>Province</th>\n",
       "      <th>Container</th>\n",
       "      <th>Size_Grade</th>\n",
       "      <th>Weight_Kg</th>\n",
       "      <th>Low_Price</th>\n",
       "      <th>High_Price</th>\n",
       "      <th>Sales_Total</th>\n",
       "      <th>Total_Qty_Sold</th>\n",
       "      <th>Total_Kg_Sold</th>\n",
       "      <th>Stock_On_Hand</th>\n",
       "      <th>avg_price_per_kg</th>\n",
       "      <th>day</th>\n",
       "      <th>month</th>\n",
       "    </tr>\n",
       "  </thead>\n",
       "  <tbody>\n",
       "    <tr>\n",
       "      <th>7</th>\n",
       "      <td>CAPE</td>\n",
       "      <td>JG110</td>\n",
       "      <td>2M</td>\n",
       "      <td>11.0</td>\n",
       "      <td>50.0</td>\n",
       "      <td>50.0</td>\n",
       "      <td>16000.0</td>\n",
       "      <td>320</td>\n",
       "      <td>3520.0</td>\n",
       "      <td>0</td>\n",
       "      <td>4.55</td>\n",
       "      <td>14</td>\n",
       "      <td>4</td>\n",
       "    </tr>\n",
       "    <tr>\n",
       "      <th>40</th>\n",
       "      <td>CAPE</td>\n",
       "      <td>M4183</td>\n",
       "      <td>1S</td>\n",
       "      <td>18.3</td>\n",
       "      <td>80.0</td>\n",
       "      <td>120.0</td>\n",
       "      <td>32020.0</td>\n",
       "      <td>388</td>\n",
       "      <td>7100.4</td>\n",
       "      <td>443</td>\n",
       "      <td>4.51</td>\n",
       "      <td>4</td>\n",
       "      <td>5</td>\n",
       "    </tr>\n",
       "    <tr>\n",
       "      <th>80</th>\n",
       "      <td>CAPE</td>\n",
       "      <td>JE090</td>\n",
       "      <td>2S</td>\n",
       "      <td>9.0</td>\n",
       "      <td>55.0</td>\n",
       "      <td>55.0</td>\n",
       "      <td>4840.0</td>\n",
       "      <td>88</td>\n",
       "      <td>792.0</td>\n",
       "      <td>181</td>\n",
       "      <td>6.11</td>\n",
       "      <td>13</td>\n",
       "      <td>3</td>\n",
       "    </tr>\n",
       "    <tr>\n",
       "      <th>117</th>\n",
       "      <td>CAPE</td>\n",
       "      <td>EC120</td>\n",
       "      <td>1M</td>\n",
       "      <td>12.0</td>\n",
       "      <td>100.0</td>\n",
       "      <td>100.0</td>\n",
       "      <td>1200.0</td>\n",
       "      <td>12</td>\n",
       "      <td>144.0</td>\n",
       "      <td>119</td>\n",
       "      <td>8.33</td>\n",
       "      <td>30</td>\n",
       "      <td>12</td>\n",
       "    </tr>\n",
       "    <tr>\n",
       "      <th>122</th>\n",
       "      <td>CAPE</td>\n",
       "      <td>JG110</td>\n",
       "      <td>2M</td>\n",
       "      <td>11.0</td>\n",
       "      <td>70.0</td>\n",
       "      <td>70.0</td>\n",
       "      <td>5600.0</td>\n",
       "      <td>80</td>\n",
       "      <td>880.0</td>\n",
       "      <td>0</td>\n",
       "      <td>6.36</td>\n",
       "      <td>5</td>\n",
       "      <td>8</td>\n",
       "    </tr>\n",
       "    <tr>\n",
       "      <th>...</th>\n",
       "      <td>...</td>\n",
       "      <td>...</td>\n",
       "      <td>...</td>\n",
       "      <td>...</td>\n",
       "      <td>...</td>\n",
       "      <td>...</td>\n",
       "      <td>...</td>\n",
       "      <td>...</td>\n",
       "      <td>...</td>\n",
       "      <td>...</td>\n",
       "      <td>...</td>\n",
       "      <td>...</td>\n",
       "      <td>...</td>\n",
       "    </tr>\n",
       "    <tr>\n",
       "      <th>64276</th>\n",
       "      <td>NATAL</td>\n",
       "      <td>EC120</td>\n",
       "      <td>1S</td>\n",
       "      <td>12.0</td>\n",
       "      <td>96.0</td>\n",
       "      <td>96.0</td>\n",
       "      <td>1920.0</td>\n",
       "      <td>20</td>\n",
       "      <td>240.0</td>\n",
       "      <td>53</td>\n",
       "      <td>8.00</td>\n",
       "      <td>4</td>\n",
       "      <td>3</td>\n",
       "    </tr>\n",
       "    <tr>\n",
       "      <th>64291</th>\n",
       "      <td>ORANGE FREE STATE</td>\n",
       "      <td>M4183</td>\n",
       "      <td>1X</td>\n",
       "      <td>18.3</td>\n",
       "      <td>130.0</td>\n",
       "      <td>130.0</td>\n",
       "      <td>7280.0</td>\n",
       "      <td>56</td>\n",
       "      <td>1024.8</td>\n",
       "      <td>74</td>\n",
       "      <td>7.10</td>\n",
       "      <td>22</td>\n",
       "      <td>2</td>\n",
       "    </tr>\n",
       "    <tr>\n",
       "      <th>64297</th>\n",
       "      <td>CAPE</td>\n",
       "      <td>JE090</td>\n",
       "      <td>2M</td>\n",
       "      <td>9.0</td>\n",
       "      <td>50.0</td>\n",
       "      <td>60.0</td>\n",
       "      <td>4540.0</td>\n",
       "      <td>89</td>\n",
       "      <td>801.0</td>\n",
       "      <td>793</td>\n",
       "      <td>5.67</td>\n",
       "      <td>22</td>\n",
       "      <td>4</td>\n",
       "    </tr>\n",
       "    <tr>\n",
       "      <th>64304</th>\n",
       "      <td>CAPE</td>\n",
       "      <td>JG110</td>\n",
       "      <td>2M</td>\n",
       "      <td>11.0</td>\n",
       "      <td>30.0</td>\n",
       "      <td>40.0</td>\n",
       "      <td>2140.0</td>\n",
       "      <td>70</td>\n",
       "      <td>770.0</td>\n",
       "      <td>0</td>\n",
       "      <td>2.78</td>\n",
       "      <td>4</td>\n",
       "      <td>3</td>\n",
       "    </tr>\n",
       "    <tr>\n",
       "      <th>64310</th>\n",
       "      <td>W.CAPE-BERGRIVER ETC</td>\n",
       "      <td>EC120</td>\n",
       "      <td>1M</td>\n",
       "      <td>12.0</td>\n",
       "      <td>88.0</td>\n",
       "      <td>104.0</td>\n",
       "      <td>9960.0</td>\n",
       "      <td>109</td>\n",
       "      <td>1308.0</td>\n",
       "      <td>67</td>\n",
       "      <td>7.61</td>\n",
       "      <td>23</td>\n",
       "      <td>4</td>\n",
       "    </tr>\n",
       "  </tbody>\n",
       "</table>\n",
       "<p>1526 rows × 13 columns</p>\n",
       "</div>"
      ],
      "text/plain": [
       "                   Province Container Size_Grade  Weight_Kg  Low_Price  \\\n",
       "7                      CAPE     JG110         2M       11.0       50.0   \n",
       "40                     CAPE     M4183         1S       18.3       80.0   \n",
       "80                     CAPE     JE090         2S        9.0       55.0   \n",
       "117                    CAPE     EC120         1M       12.0      100.0   \n",
       "122                    CAPE     JG110         2M       11.0       70.0   \n",
       "...                     ...       ...        ...        ...        ...   \n",
       "64276                 NATAL     EC120         1S       12.0       96.0   \n",
       "64291     ORANGE FREE STATE     M4183         1X       18.3      130.0   \n",
       "64297                  CAPE     JE090         2M        9.0       50.0   \n",
       "64304                  CAPE     JG110         2M       11.0       30.0   \n",
       "64310  W.CAPE-BERGRIVER ETC     EC120         1M       12.0       88.0   \n",
       "\n",
       "       High_Price  Sales_Total  Total_Qty_Sold  Total_Kg_Sold  Stock_On_Hand  \\\n",
       "7            50.0      16000.0             320         3520.0              0   \n",
       "40          120.0      32020.0             388         7100.4            443   \n",
       "80           55.0       4840.0              88          792.0            181   \n",
       "117         100.0       1200.0              12          144.0            119   \n",
       "122          70.0       5600.0              80          880.0              0   \n",
       "...           ...          ...             ...            ...            ...   \n",
       "64276        96.0       1920.0              20          240.0             53   \n",
       "64291       130.0       7280.0              56         1024.8             74   \n",
       "64297        60.0       4540.0              89          801.0            793   \n",
       "64304        40.0       2140.0              70          770.0              0   \n",
       "64310       104.0       9960.0             109         1308.0             67   \n",
       "\n",
       "       avg_price_per_kg  day  month  \n",
       "7                  4.55   14      4  \n",
       "40                 4.51    4      5  \n",
       "80                 6.11   13      3  \n",
       "117                8.33   30     12  \n",
       "122                6.36    5      8  \n",
       "...                 ...  ...    ...  \n",
       "64276              8.00    4      3  \n",
       "64291              7.10   22      2  \n",
       "64297              5.67   22      4  \n",
       "64304              2.78    4      3  \n",
       "64310              7.61   23      4  \n",
       "\n",
       "[1526 rows x 13 columns]"
      ]
     },
     "execution_count": 30,
     "metadata": {},
     "output_type": "execute_result"
    }
   ],
   "source": [
    "df_train_o #lets check out our dataset now"
   ]
  },
  {
   "cell_type": "markdown",
   "metadata": {},
   "source": [
    "In order to be able to use our categorical data (Province, Container, Size_Grade) in our model we will need to turn it into numerical data using dummy variable encoding."
   ]
  },
  {
   "cell_type": "code",
   "execution_count": 31,
   "metadata": {},
   "outputs": [
    {
     "data": {
      "text/html": [
       "<div>\n",
       "<style scoped>\n",
       "    .dataframe tbody tr th:only-of-type {\n",
       "        vertical-align: middle;\n",
       "    }\n",
       "\n",
       "    .dataframe tbody tr th {\n",
       "        vertical-align: top;\n",
       "    }\n",
       "\n",
       "    .dataframe thead th {\n",
       "        text-align: right;\n",
       "    }\n",
       "</style>\n",
       "<table border=\"1\" class=\"dataframe\">\n",
       "  <thead>\n",
       "    <tr style=\"text-align: right;\">\n",
       "      <th></th>\n",
       "      <th>Weight_Kg</th>\n",
       "      <th>Low_Price</th>\n",
       "      <th>High_Price</th>\n",
       "      <th>Sales_Total</th>\n",
       "      <th>Total_Qty_Sold</th>\n",
       "      <th>Total_Kg_Sold</th>\n",
       "      <th>Stock_On_Hand</th>\n",
       "      <th>avg_price_per_kg</th>\n",
       "      <th>day</th>\n",
       "      <th>month</th>\n",
       "      <th>...</th>\n",
       "      <th>Size_Grade_1L</th>\n",
       "      <th>Size_Grade_1M</th>\n",
       "      <th>Size_Grade_1S</th>\n",
       "      <th>Size_Grade_1U</th>\n",
       "      <th>Size_Grade_1X</th>\n",
       "      <th>Size_Grade_2L</th>\n",
       "      <th>Size_Grade_2M</th>\n",
       "      <th>Size_Grade_2S</th>\n",
       "      <th>Size_Grade_2U</th>\n",
       "      <th>Size_Grade_2X</th>\n",
       "    </tr>\n",
       "  </thead>\n",
       "  <tbody>\n",
       "    <tr>\n",
       "      <th>7</th>\n",
       "      <td>11.0</td>\n",
       "      <td>50.0</td>\n",
       "      <td>50.0</td>\n",
       "      <td>16000.0</td>\n",
       "      <td>320</td>\n",
       "      <td>3520.0</td>\n",
       "      <td>0</td>\n",
       "      <td>4.55</td>\n",
       "      <td>14</td>\n",
       "      <td>4</td>\n",
       "      <td>...</td>\n",
       "      <td>0</td>\n",
       "      <td>0</td>\n",
       "      <td>0</td>\n",
       "      <td>0</td>\n",
       "      <td>0</td>\n",
       "      <td>0</td>\n",
       "      <td>1</td>\n",
       "      <td>0</td>\n",
       "      <td>0</td>\n",
       "      <td>0</td>\n",
       "    </tr>\n",
       "    <tr>\n",
       "      <th>40</th>\n",
       "      <td>18.3</td>\n",
       "      <td>80.0</td>\n",
       "      <td>120.0</td>\n",
       "      <td>32020.0</td>\n",
       "      <td>388</td>\n",
       "      <td>7100.4</td>\n",
       "      <td>443</td>\n",
       "      <td>4.51</td>\n",
       "      <td>4</td>\n",
       "      <td>5</td>\n",
       "      <td>...</td>\n",
       "      <td>0</td>\n",
       "      <td>0</td>\n",
       "      <td>1</td>\n",
       "      <td>0</td>\n",
       "      <td>0</td>\n",
       "      <td>0</td>\n",
       "      <td>0</td>\n",
       "      <td>0</td>\n",
       "      <td>0</td>\n",
       "      <td>0</td>\n",
       "    </tr>\n",
       "    <tr>\n",
       "      <th>80</th>\n",
       "      <td>9.0</td>\n",
       "      <td>55.0</td>\n",
       "      <td>55.0</td>\n",
       "      <td>4840.0</td>\n",
       "      <td>88</td>\n",
       "      <td>792.0</td>\n",
       "      <td>181</td>\n",
       "      <td>6.11</td>\n",
       "      <td>13</td>\n",
       "      <td>3</td>\n",
       "      <td>...</td>\n",
       "      <td>0</td>\n",
       "      <td>0</td>\n",
       "      <td>0</td>\n",
       "      <td>0</td>\n",
       "      <td>0</td>\n",
       "      <td>0</td>\n",
       "      <td>0</td>\n",
       "      <td>1</td>\n",
       "      <td>0</td>\n",
       "      <td>0</td>\n",
       "    </tr>\n",
       "    <tr>\n",
       "      <th>117</th>\n",
       "      <td>12.0</td>\n",
       "      <td>100.0</td>\n",
       "      <td>100.0</td>\n",
       "      <td>1200.0</td>\n",
       "      <td>12</td>\n",
       "      <td>144.0</td>\n",
       "      <td>119</td>\n",
       "      <td>8.33</td>\n",
       "      <td>30</td>\n",
       "      <td>12</td>\n",
       "      <td>...</td>\n",
       "      <td>0</td>\n",
       "      <td>1</td>\n",
       "      <td>0</td>\n",
       "      <td>0</td>\n",
       "      <td>0</td>\n",
       "      <td>0</td>\n",
       "      <td>0</td>\n",
       "      <td>0</td>\n",
       "      <td>0</td>\n",
       "      <td>0</td>\n",
       "    </tr>\n",
       "    <tr>\n",
       "      <th>122</th>\n",
       "      <td>11.0</td>\n",
       "      <td>70.0</td>\n",
       "      <td>70.0</td>\n",
       "      <td>5600.0</td>\n",
       "      <td>80</td>\n",
       "      <td>880.0</td>\n",
       "      <td>0</td>\n",
       "      <td>6.36</td>\n",
       "      <td>5</td>\n",
       "      <td>8</td>\n",
       "      <td>...</td>\n",
       "      <td>0</td>\n",
       "      <td>0</td>\n",
       "      <td>0</td>\n",
       "      <td>0</td>\n",
       "      <td>0</td>\n",
       "      <td>0</td>\n",
       "      <td>1</td>\n",
       "      <td>0</td>\n",
       "      <td>0</td>\n",
       "      <td>0</td>\n",
       "    </tr>\n",
       "  </tbody>\n",
       "</table>\n",
       "<p>5 rows × 37 columns</p>\n",
       "</div>"
      ],
      "text/plain": [
       "     Weight_Kg  Low_Price  High_Price  Sales_Total  Total_Qty_Sold  \\\n",
       "7         11.0       50.0        50.0      16000.0             320   \n",
       "40        18.3       80.0       120.0      32020.0             388   \n",
       "80         9.0       55.0        55.0       4840.0              88   \n",
       "117       12.0      100.0       100.0       1200.0              12   \n",
       "122       11.0       70.0        70.0       5600.0              80   \n",
       "\n",
       "     Total_Kg_Sold  Stock_On_Hand  avg_price_per_kg  day  month  ...  \\\n",
       "7           3520.0              0              4.55   14      4  ...   \n",
       "40          7100.4            443              4.51    4      5  ...   \n",
       "80           792.0            181              6.11   13      3  ...   \n",
       "117          144.0            119              8.33   30     12  ...   \n",
       "122          880.0              0              6.36    5      8  ...   \n",
       "\n",
       "     Size_Grade_1L  Size_Grade_1M  Size_Grade_1S  Size_Grade_1U  \\\n",
       "7                0              0              0              0   \n",
       "40               0              0              1              0   \n",
       "80               0              0              0              0   \n",
       "117              0              1              0              0   \n",
       "122              0              0              0              0   \n",
       "\n",
       "     Size_Grade_1X  Size_Grade_2L  Size_Grade_2M  Size_Grade_2S  \\\n",
       "7                0              0              1              0   \n",
       "40               0              0              0              0   \n",
       "80               0              0              0              1   \n",
       "117              0              0              0              0   \n",
       "122              0              0              1              0   \n",
       "\n",
       "     Size_Grade_2U  Size_Grade_2X  \n",
       "7                0              0  \n",
       "40               0              0  \n",
       "80               0              0  \n",
       "117              0              0  \n",
       "122              0              0  \n",
       "\n",
       "[5 rows x 37 columns]"
      ]
     },
     "execution_count": 31,
     "metadata": {},
     "output_type": "execute_result"
    }
   ],
   "source": [
    "df_dummies = pd.get_dummies(df_train_o)\n",
    "\n",
    "#lets make sure that all the column names have underscores instead of whitespaces\n",
    "df_dummies.columns = [col.replace(\" \",\"_\") for col in df_dummies.columns]\n",
    "df_dummies.columns = [col.replace(\".\",\"_\") for col in df_dummies.columns]\n",
    "df_dummies.columns = [col.replace(\"-\",\"_\") for col in df_dummies.columns]\n",
    "#lets have a look at our data\n",
    "df_dummies.head()"
   ]
  },
  {
   "cell_type": "code",
   "execution_count": 32,
   "metadata": {},
   "outputs": [
    {
     "data": {
      "text/plain": [
       "(1526, 37)"
      ]
     },
     "execution_count": 32,
     "metadata": {},
     "output_type": "execute_result"
    }
   ],
   "source": [
    "df_dummies.shape"
   ]
  },
  {
   "cell_type": "code",
   "execution_count": 33,
   "metadata": {},
   "outputs": [
    {
     "data": {
      "image/png": "[encoded data removed]",
      "text/plain": [
       "<Figure size 1080x1080 with 1 Axes>"
      ]
     },
     "execution_count": 33,
     "metadata": {},
     "output_type": "execute_result"
    },
    {
     "data": {
      "image/png": "[encoded data removed]",
      "text/plain": [
       "<Figure size 1080x1080 with 1 Axes>"
      ]
     },
     "metadata": {
      "needs_background": "light"
     },
     "output_type": "display_data"
    }
   ],
   "source": [
    "from statsmodels.graphics.correlation import plot_corr\n",
    "\n",
    "fig = plt.figure(figsize=(15,15));\n",
    "ax = fig.add_subplot(111);\n",
    "plot_corr(df_dummies.corr(), xnames = df_dummies.corr().columns, ax = ax)"
   ]
  },
  {
   "cell_type": "markdown",
   "metadata": {},
   "source": [
    "As we can see above our table now has 37 columns instead of 15 due to the dummy variables. It is a good idea to reduce the number of input variables to both reduce the computational cost of modeling and, in some cases, to improve the performance of the model. So we willspend some time testing different feature engineering methods that will give us the best model.\n",
    "\n",
    "We will start by using a filter method - variable selectin by variance threshold using sklearn."
   ]
  },
  {
   "cell_type": "markdown",
   "metadata": {},
   "source": [
    "# Variable Selection by Variance Thresholds"
   ]
  },
  {
   "cell_type": "markdown",
   "metadata": {},
   "source": [
    "we will use a variance threshold of 3% "
   ]
  },
  {
   "cell_type": "markdown",
   "metadata": {},
   "source": [
    "## Prepare the data and import sklearn"
   ]
  },
  {
   "cell_type": "code",
   "execution_count": 34,
   "metadata": {},
   "outputs": [],
   "source": [
    "# Separate data into independent (X) and dependent (y) variables\n",
    "y_name = 'avg_price_per_kg'\n",
    "X_names = list(df_dummies.columns)\n",
    "X_names.remove(y_name)\n",
    "X_data = df_dummies[X_names]\n",
    "y_data = df_dummies[y_name]"
   ]
  },
  {
   "cell_type": "code",
   "execution_count": 35,
   "metadata": {},
   "outputs": [],
   "source": [
    "from sklearn.preprocessing import MinMaxScaler\n",
    "from sklearn.feature_selection import VarianceThreshold\n",
    "# Normalize data\n",
    "scaler = MinMaxScaler()\n",
    "X_scaled = scaler.fit_transform(X_data)\n",
    "X_normalize = pd.DataFrame(X_scaled, columns=X_data.columns)"
   ]
  },
  {
   "cell_type": "markdown",
   "metadata": {},
   "source": [
    "Implementing the Variance Threshold."
   ]
  },
  {
   "cell_type": "code",
   "execution_count": 36,
   "metadata": {},
   "outputs": [
    {
     "data": {
      "text/plain": [
       "VarianceThreshold(threshold=0.03)"
      ]
     },
     "execution_count": 36,
     "metadata": {},
     "output_type": "execute_result"
    }
   ],
   "source": [
    "# Create VarianceThreshold object\n",
    "selector = VarianceThreshold(threshold=0.03)\n",
    "\n",
    "# Use the object to apply the threshold on data\n",
    "selector.fit(X_normalize)"
   ]
  },
  {
   "cell_type": "code",
   "execution_count": 37,
   "metadata": {},
   "outputs": [
    {
     "name": "stdout",
     "output_type": "stream",
     "text": [
      "<class 'pandas.core.frame.DataFrame'>\n",
      "RangeIndex: 1526 entries, 0 to 1525\n",
      "Data columns (total 25 columns):\n",
      " #   Column                         Non-Null Count  Dtype  \n",
      "---  ------                         --------------  -----  \n",
      " 0   Weight_Kg                      1526 non-null   float64\n",
      " 1   Low_Price                      1526 non-null   float64\n",
      " 2   High_Price                     1526 non-null   float64\n",
      " 3   Sales_Total                    1526 non-null   float64\n",
      " 4   Total_Kg_Sold                  1526 non-null   float64\n",
      " 5   Stock_On_Hand                  1526 non-null   float64\n",
      " 6   day                            1526 non-null   float64\n",
      " 7   month                          1526 non-null   float64\n",
      " 8   Province_CAPE                  1526 non-null   float64\n",
      " 9   Province_EASTERN_CAPE          1526 non-null   float64\n",
      " 10  Province_NATAL                 1526 non-null   float64\n",
      " 11  Province_W_CAPE_BERGRIVER_ETC  1526 non-null   float64\n",
      " 12  Province_WEST_COAST            1526 non-null   float64\n",
      " 13  Container_EC120                1526 non-null   float64\n",
      " 14  Container_EF120                1526 non-null   float64\n",
      " 15  Container_JE090                1526 non-null   float64\n",
      " 16  Container_JG110                1526 non-null   float64\n",
      " 17  Container_M4183                1526 non-null   float64\n",
      " 18  Size_Grade_1L                  1526 non-null   float64\n",
      " 19  Size_Grade_1M                  1526 non-null   float64\n",
      " 20  Size_Grade_1S                  1526 non-null   float64\n",
      " 21  Size_Grade_1X                  1526 non-null   float64\n",
      " 22  Size_Grade_2L                  1526 non-null   float64\n",
      " 23  Size_Grade_2M                  1526 non-null   float64\n",
      " 24  Size_Grade_2S                  1526 non-null   float64\n",
      "dtypes: float64(25)\n",
      "memory usage: 298.2 KB\n"
     ]
    }
   ],
   "source": [
    "# Select new columns\n",
    "X_new = X_normalize[X_normalize.columns[selector.get_support(indices=True)]]\n",
    "\n",
    "# Save variable names for later\n",
    "X_var_names = X_new.columns\n",
    "\n",
    "# View first few entries\n",
    "X_new.info()"
   ]
  },
  {
   "cell_type": "markdown",
   "metadata": {},
   "source": [
    "With a threshold of 5% we have gone from 39 to 25 predictors."
   ]
  },
  {
   "cell_type": "markdown",
   "metadata": {},
   "source": [
    "##  Model prediction of Average price per kg"
   ]
  },
  {
   "cell_type": "markdown",
   "metadata": {},
   "source": [
    "With the reduction of features, we can now attempt to fit models to our dataframe."
   ]
  },
  {
   "cell_type": "code",
   "execution_count": 38,
   "metadata": {},
   "outputs": [],
   "source": [
    "from sklearn.linear_model import LinearRegression\n",
    "from sklearn.model_selection import train_test_split"
   ]
  },
  {
   "cell_type": "markdown",
   "metadata": {},
   "source": [
    "## Pre-processing"
   ]
  },
  {
   "cell_type": "markdown",
   "metadata": {},
   "source": [
    "Lets do some pre processing of our data to make sure its ready for modelling"
   ]
  },
  {
   "cell_type": "code",
   "execution_count": 39,
   "metadata": {},
   "outputs": [],
   "source": [
    "# Train-test split\n",
    "X_train, X_test, y_train, y_test = train_test_split(X_data, # ????should we not be using x_new which has the reduced columns\n",
    "                                                    y_data,\n",
    "                                                    test_size=0.20,\n",
    "                                                    shuffle=False)"
   ]
  },
  {
   "cell_type": "code",
   "execution_count": 40,
   "metadata": {},
   "outputs": [],
   "source": [
    "# Get training and testing data for variance threshold model\n",
    "X_var_train = X_train[X_var_names]\n",
    "X_var_test = X_test[X_var_names]"
   ]
  },
  {
   "cell_type": "code",
   "execution_count": 41,
   "metadata": {},
   "outputs": [],
   "source": [
    "# Get training and testing data for correlation threshold model\n",
    "X_corr_names = X_names\n",
    "X_corr_train = X_train[X_corr_names]\n",
    "X_corr_test = X_test[X_corr_names]"
   ]
  },
  {
   "cell_type": "markdown",
   "metadata": {},
   "source": [
    "## Fit models\n",
    "\n",
    "We will instantiate and fit our models"
   ]
  },
  {
   "cell_type": "code",
   "execution_count": 42,
   "metadata": {},
   "outputs": [],
   "source": [
    "lm = LinearRegression()\n",
    "lm_corr = LinearRegression()\n",
    "lm_var = LinearRegression()"
   ]
  },
  {
   "cell_type": "code",
   "execution_count": 43,
   "metadata": {},
   "outputs": [],
   "source": [
    "lm.fit(X_train, y_train);\n",
    "lm_corr.fit(X_corr_train,y_train);\n",
    "lm_var.fit(X_var_train,y_train);"
   ]
  },
  {
   "cell_type": "markdown",
   "metadata": {},
   "source": [
    "### Assessing model accuracy"
   ]
  },
  {
   "cell_type": "code",
   "execution_count": 44,
   "metadata": {},
   "outputs": [],
   "source": [
    "from sklearn.metrics import mean_squared_error, r2_score"
   ]
  },
  {
   "cell_type": "code",
   "execution_count": 45,
   "metadata": {},
   "outputs": [
    {
     "data": {
      "image/png": "[encoded data removed]",
      "text/plain": [
       "<Figure size 1080x360 with 3 Axes>"
      ]
     },
     "metadata": {
      "needs_background": "light"
     },
     "output_type": "display_data"
    }
   ],
   "source": [
    "# Create figure and axes\n",
    "f, ax = plt.subplots(figsize=(15, 5), nrows=1, ncols=3, sharey=True)\n",
    "\n",
    "# Create list of titles and predictions to use in for loop\n",
    "train_pred = [lm.predict(X_train),\n",
    "              lm_corr.predict(X_corr_train),\n",
    "              lm_var.predict(X_var_train)]\n",
    "test_pred = [lm.predict(X_test),\n",
    "             lm_corr.predict(X_corr_test),\n",
    "             lm_var.predict(X_var_test)]\n",
    "title = ['No threshold', 'Corr threshold', 'Var threshold']\n",
    "\n",
    "# Key:\n",
    "# No threshold - linear regression with all predictive variables\n",
    "# Corr threshold - linear regression with correlation thresholded predictive variables\n",
    "# Var threshold - linear regression with variance thresholded predictive variables\n",
    "\n",
    "\n",
    "# Loop through all axes to plot each model's results\n",
    "for i in range(3):\n",
    "    test_mse = round(mean_squared_error(test_pred[i], y_test), 4)\n",
    "    test_r2 = round(r2_score(test_pred[i], y_test), 4)\n",
    "    train_mse = round(mean_squared_error(train_pred[i], y_train), 4)\n",
    "    train_r2 = round(r2_score(train_pred[i], y_train), 4)\n",
    "    title_str = f\"Linear Regression({title[i]}) \\n train MSE = {train_mse} \\n \" + \\\n",
    "                f\"test MSE = {test_mse} \\n training $R^{2}$ = {train_r2} \\n \" + \\\n",
    "                f\"test $R^{2}$ = {test_r2}\"\n",
    "    ax[i].set_title(title_str)\n",
    "    ax[i].set_xlabel('Actual')\n",
    "    ax[i].set_ylabel('Predicted')\n",
    "    ax[i].plot(y_test, y_test, 'r')\n",
    "    ax[i].scatter(y_test, test_pred[i])\n",
    "    "
   ]
  },
  {
   "cell_type": "markdown",
   "metadata": {},
   "source": [
    "Variable selection by variance puts our model at score of 9.333"
   ]
  },
  {
   "cell_type": "markdown",
   "metadata": {},
   "source": [
    "# Building the Decision Tree Regressor Model"
   ]
  },
  {
   "cell_type": "code",
   "execution_count": 46,
   "metadata": {},
   "outputs": [],
   "source": [
    "from sklearn.tree import DecisionTreeRegressor"
   ]
  },
  {
   "cell_type": "code",
   "execution_count": 47,
   "metadata": {},
   "outputs": [],
   "source": [
    "dtr=DecisionTreeRegressor()\n",
    "dtr.fit(X_train,y_train)\n",
    "pred=dtr.predict(X_test)"
   ]
  },
  {
   "cell_type": "code",
   "execution_count": 48,
   "metadata": {},
   "outputs": [
    {
     "name": "stdout",
     "output_type": "stream",
     "text": [
      "<class 'pandas.core.frame.DataFrame'>\n",
      "Int64Index: 1220 entries, 7 to 55266\n",
      "Data columns (total 36 columns):\n",
      " #   Column                         Non-Null Count  Dtype  \n",
      "---  ------                         --------------  -----  \n",
      " 0   Weight_Kg                      1220 non-null   float64\n",
      " 1   Low_Price                      1220 non-null   float64\n",
      " 2   High_Price                     1220 non-null   float64\n",
      " 3   Sales_Total                    1220 non-null   float64\n",
      " 4   Total_Qty_Sold                 1220 non-null   int64  \n",
      " 5   Total_Kg_Sold                  1220 non-null   float64\n",
      " 6   Stock_On_Hand                  1220 non-null   int64  \n",
      " 7   day                            1220 non-null   int64  \n",
      " 8   month                          1220 non-null   int64  \n",
      " 9   Province_CAPE                  1220 non-null   uint8  \n",
      " 10  Province_EASTERN_CAPE          1220 non-null   uint8  \n",
      " 11  Province_NATAL                 1220 non-null   uint8  \n",
      " 12  Province_ORANGE_FREE_STATE     1220 non-null   uint8  \n",
      " 13  Province_TRANSVAAL             1220 non-null   uint8  \n",
      " 14  Province_W_CAPE_BERGRIVER_ETC  1220 non-null   uint8  \n",
      " 15  Province_WEST_COAST            1220 non-null   uint8  \n",
      " 16  Container_AC030                1220 non-null   uint8  \n",
      " 17  Container_DT063                1220 non-null   uint8  \n",
      " 18  Container_EC120                1220 non-null   uint8  \n",
      " 19  Container_EF120                1220 non-null   uint8  \n",
      " 20  Container_EG140                1220 non-null   uint8  \n",
      " 21  Container_JE090                1220 non-null   uint8  \n",
      " 22  Container_JG110                1220 non-null   uint8  \n",
      " 23  Container_M4183                1220 non-null   uint8  \n",
      " 24  Container_M6125                1220 non-null   uint8  \n",
      " 25  Container_M9125                1220 non-null   uint8  \n",
      " 26  Size_Grade_1L                  1220 non-null   uint8  \n",
      " 27  Size_Grade_1M                  1220 non-null   uint8  \n",
      " 28  Size_Grade_1S                  1220 non-null   uint8  \n",
      " 29  Size_Grade_1U                  1220 non-null   uint8  \n",
      " 30  Size_Grade_1X                  1220 non-null   uint8  \n",
      " 31  Size_Grade_2L                  1220 non-null   uint8  \n",
      " 32  Size_Grade_2M                  1220 non-null   uint8  \n",
      " 33  Size_Grade_2S                  1220 non-null   uint8  \n",
      " 34  Size_Grade_2U                  1220 non-null   uint8  \n",
      " 35  Size_Grade_2X                  1220 non-null   uint8  \n",
      "dtypes: float64(5), int64(4), uint8(27)\n",
      "memory usage: 127.5 KB\n"
     ]
    }
   ],
   "source": [
    "X_train.info()"
   ]
  },
  {
   "cell_type": "code",
   "execution_count": 49,
   "metadata": {},
   "outputs": [
    {
     "data": {
      "text/plain": [
       "Text(0, 0.5, 'Predicted Y')"
      ]
     },
     "execution_count": 49,
     "metadata": {},
     "output_type": "execute_result"
    },
    {
     "data": {
      "image/png": "[encoded data removed]",
      "text/plain": [
       "<Figure size 432x288 with 1 Axes>"
      ]
     },
     "metadata": {
      "needs_background": "light"
     },
     "output_type": "display_data"
    }
   ],
   "source": [
    "plt.scatter(x=y_test,y=pred)\n",
    "plt.xlabel('Y Test')\n",
    "plt.ylabel('Predicted Y')"
   ]
  },
  {
   "cell_type": "markdown",
   "metadata": {},
   "source": [
    "Apply  .fit() to train our model"
   ]
  },
  {
   "cell_type": "code",
   "execution_count": 50,
   "metadata": {},
   "outputs": [
    {
     "name": "stdout",
     "output_type": "stream",
     "text": [
      "MAE: 0.33379084967320277\n",
      "MSE: 0.3682215686274509\n",
      "RMSE: 0.60681263057673\n"
     ]
    }
   ],
   "source": [
    "from sklearn import metrics\n",
    "print('MAE:', metrics.mean_absolute_error(y_test, pred))\n",
    "print('MSE:', metrics.mean_squared_error(y_test, pred))\n",
    "print('RMSE:', np.sqrt(metrics.mean_squared_error(y_test, pred)))"
   ]
  },
  {
   "cell_type": "markdown",
   "metadata": {},
   "source": [
    "Decision Tree Regressor Model improved our score from 9.3 to 2.2"
   ]
  },
  {
   "cell_type": "markdown",
   "metadata": {},
   "source": [
    "## Building the Random Forest model¶"
   ]
  },
  {
   "cell_type": "code",
   "execution_count": 51,
   "metadata": {},
   "outputs": [],
   "source": [
    "from sklearn.ensemble import RandomForestRegressor\n",
    "rdr = RandomForestRegressor()\n",
    "rdr.fit(X_train,y_train)\n",
    "pred=rdr.predict(X_test)"
   ]
  },
  {
   "cell_type": "code",
   "execution_count": 52,
   "metadata": {},
   "outputs": [
    {
     "name": "stdout",
     "output_type": "stream",
     "text": [
      "MAE: 0.2915173202614383\n",
      "MSE: 0.289676021013072\n",
      "RMSE: 0.5382155897157495\n"
     ]
    }
   ],
   "source": [
    "print('MAE:', metrics.mean_absolute_error(y_test, pred))\n",
    "print('MSE:', metrics.mean_squared_error(y_test, pred))\n",
    "print('RMSE:', np.sqrt(metrics.mean_squared_error(y_test, pred)))"
   ]
  },
  {
   "cell_type": "code",
   "execution_count": 53,
   "metadata": {},
   "outputs": [
    {
     "name": "stdout",
     "output_type": "stream",
     "text": [
      "<class 'pandas.core.frame.DataFrame'>\n",
      "Int64Index: 1526 entries, 7 to 64310\n",
      "Data columns (total 37 columns):\n",
      " #   Column                         Non-Null Count  Dtype  \n",
      "---  ------                         --------------  -----  \n",
      " 0   Weight_Kg                      1526 non-null   float64\n",
      " 1   Low_Price                      1526 non-null   float64\n",
      " 2   High_Price                     1526 non-null   float64\n",
      " 3   Sales_Total                    1526 non-null   float64\n",
      " 4   Total_Qty_Sold                 1526 non-null   int64  \n",
      " 5   Total_Kg_Sold                  1526 non-null   float64\n",
      " 6   Stock_On_Hand                  1526 non-null   int64  \n",
      " 7   avg_price_per_kg               1526 non-null   float64\n",
      " 8   day                            1526 non-null   int64  \n",
      " 9   month                          1526 non-null   int64  \n",
      " 10  Province_CAPE                  1526 non-null   uint8  \n",
      " 11  Province_EASTERN_CAPE          1526 non-null   uint8  \n",
      " 12  Province_NATAL                 1526 non-null   uint8  \n",
      " 13  Province_ORANGE_FREE_STATE     1526 non-null   uint8  \n",
      " 14  Province_TRANSVAAL             1526 non-null   uint8  \n",
      " 15  Province_W_CAPE_BERGRIVER_ETC  1526 non-null   uint8  \n",
      " 16  Province_WEST_COAST            1526 non-null   uint8  \n",
      " 17  Container_AC030                1526 non-null   uint8  \n",
      " 18  Container_DT063                1526 non-null   uint8  \n",
      " 19  Container_EC120                1526 non-null   uint8  \n",
      " 20  Container_EF120                1526 non-null   uint8  \n",
      " 21  Container_EG140                1526 non-null   uint8  \n",
      " 22  Container_JE090                1526 non-null   uint8  \n",
      " 23  Container_JG110                1526 non-null   uint8  \n",
      " 24  Container_M4183                1526 non-null   uint8  \n",
      " 25  Container_M6125                1526 non-null   uint8  \n",
      " 26  Container_M9125                1526 non-null   uint8  \n",
      " 27  Size_Grade_1L                  1526 non-null   uint8  \n",
      " 28  Size_Grade_1M                  1526 non-null   uint8  \n",
      " 29  Size_Grade_1S                  1526 non-null   uint8  \n",
      " 30  Size_Grade_1U                  1526 non-null   uint8  \n",
      " 31  Size_Grade_1X                  1526 non-null   uint8  \n",
      " 32  Size_Grade_2L                  1526 non-null   uint8  \n",
      " 33  Size_Grade_2M                  1526 non-null   uint8  \n",
      " 34  Size_Grade_2S                  1526 non-null   uint8  \n",
      " 35  Size_Grade_2U                  1526 non-null   uint8  \n",
      " 36  Size_Grade_2X                  1526 non-null   uint8  \n",
      "dtypes: float64(6), int64(4), uint8(27)\n",
      "memory usage: 203.7 KB\n"
     ]
    }
   ],
   "source": [
    "df_dummies.info()"
   ]
  },
  {
   "cell_type": "markdown",
   "metadata": {},
   "source": [
    "Random Forest model improved our score slightly"
   ]
  },
  {
   "cell_type": "markdown",
   "metadata": {},
   "source": [
    "## Building the K nearest Neighbor model"
   ]
  },
  {
   "cell_type": "code",
   "execution_count": 54,
   "metadata": {},
   "outputs": [],
   "source": [
    "#import KNeighborsClassifier\n",
    "from sklearn.neighbors import KNeighborsClassifier"
   ]
  },
  {
   "cell_type": "code",
   "execution_count": 55,
   "metadata": {},
   "outputs": [],
   "source": [
    "train , test = train_test_split(df_dummies, test_size = 0.2)\n",
    "\n",
    "x_train = train.drop('avg_price_per_kg', axis=1)\n",
    "y_train = train['avg_price_per_kg']\n",
    "\n",
    "x_test = test.drop('avg_price_per_kg', axis = 1)\n",
    "y_test = test['avg_price_per_kg']"
   ]
  },
  {
   "cell_type": "markdown",
   "metadata": {},
   "source": [
    "Preprocessing – Scaling the features"
   ]
  },
  {
   "cell_type": "code",
   "execution_count": 56,
   "metadata": {},
   "outputs": [],
   "source": [
    "from sklearn.preprocessing import MinMaxScaler\n",
    "scaler = MinMaxScaler(feature_range=(0, 1))\n",
    "\n",
    "x_train_scaled = scaler.fit_transform(x_train)\n",
    "x_train = pd.DataFrame(x_train_scaled)\n",
    "\n",
    "x_test_scaled = scaler.fit_transform(x_test)\n",
    "x_test = pd.DataFrame(x_test_scaled)"
   ]
  },
  {
   "cell_type": "markdown",
   "metadata": {},
   "source": [
    "Let us have a look at the error rate for different k values"
   ]
  },
  {
   "cell_type": "code",
   "execution_count": 58,
   "metadata": {},
   "outputs": [
    {
     "name": "stdout",
     "output_type": "stream",
     "text": [
      "RMSE value for k=  1 is: 1.055308089326853\n",
      "RMSE value for k=  2 is: 1.1090386595452897\n",
      "RMSE value for k=  3 is: 1.1233614711732307\n",
      "RMSE value for k=  4 is: 1.1779177460685735\n",
      "RMSE value for k=  5 is: 1.16243690952561\n",
      "RMSE value for k=  6 is: 1.196713701656646\n",
      "RMSE value for k=  7 is: 1.2132376896593582\n",
      "RMSE value for k=  8 is: 1.2300309938839074\n",
      "RMSE value for k=  9 is: 1.25780802573902\n",
      "RMSE value for k=  10 is: 1.2669196290235734\n",
      "RMSE value for k=  11 is: 1.2807720865505428\n",
      "RMSE value for k=  12 is: 1.2914058454777897\n",
      "RMSE value for k=  13 is: 1.2967714736166653\n",
      "RMSE value for k=  14 is: 1.2963207984053502\n",
      "RMSE value for k=  15 is: 1.2998957848848365\n",
      "RMSE value for k=  16 is: 1.2989581397314194\n",
      "RMSE value for k=  17 is: 1.3069552783645402\n",
      "RMSE value for k=  18 is: 1.3132991908878087\n",
      "RMSE value for k=  19 is: 1.3285581486997438\n",
      "RMSE value for k=  20 is: 1.3310253612365552\n"
     ]
    }
   ],
   "source": [
    "rmse_val = [] #to store rmse values for different k\n",
    "for K in range(20):\n",
    "    K = K+1\n",
    "    model = neighbors.KNeighborsRegressor(n_neighbors = K)\n",
    "\n",
    "    model.fit(x_train, y_train)  #fit the model\n",
    "    pred=model.predict(x_test) #make prediction on test set\n",
    "    error = sqrt(mean_squared_error(y_test,pred)) #calculate rmse\n",
    "    rmse_val.append(error) #store rmse values\n",
    "    print('RMSE value for k= ' , K , 'is:', error)"
   ]
  },
  {
   "cell_type": "code",
   "execution_count": 59,
   "metadata": {},
   "outputs": [
    {
     "data": {
      "text/plain": [
       "<AxesSubplot:>"
      ]
     },
     "execution_count": 59,
     "metadata": {},
     "output_type": "execute_result"
    },
    {
     "data": {
      "image/png": "[encoded data removed]",
      "text/plain": [
       "<Figure size 432x288 with 1 Axes>"
      ]
     },
     "metadata": {
      "needs_background": "light"
     },
     "output_type": "display_data"
    }
   ],
   "source": [
    "#plotting the rmse values against k values\n",
    "curve = pd.DataFrame(rmse_val) #elbow curve \n",
    "curve.plot()"
   ]
  },
  {
   "cell_type": "markdown",
   "metadata": {},
   "source": [
    "Knearest Neigbors did not improve our score"
   ]
  },
  {
   "cell_type": "markdown",
   "metadata": {},
   "source": [
    "## Prepare data for submission"
   ]
  },
  {
   "cell_type": "code",
   "execution_count": 60,
   "metadata": {},
   "outputs": [],
   "source": [
    "df_test = pd.read_csv('Advanced_regression_predict-Starter-Data-2629/df-test_set.csv')\n",
    "df_test['Date'] = pd.to_datetime(df_test['Date'])\n",
    "df_test['day'] = df_test['Date'].dt.day\n",
    "df_test['month'] =df_test['Date'].dt.month\n",
    "df_test['year'] = df_test['Date'].dt.year"
   ]
  },
  {
   "cell_type": "code",
   "execution_count": 61,
   "metadata": {},
   "outputs": [],
   "source": [
    "df_test = df_test[df_test.Commodities == 'APPLE GOLDEN DELICIOUS'] # filter for APPLE GOLDEN DELICIOUS\n",
    "df_test = df_test.drop(['Commodities','Date','year'], axis = 1)\n"
   ]
  },
  {
   "cell_type": "code",
   "execution_count": 62,
   "metadata": {},
   "outputs": [
    {
     "name": "stdout",
     "output_type": "stream",
     "text": [
      "<class 'pandas.core.frame.DataFrame'>\n",
      "Int64Index: 685 entries, 0 to 684\n",
      "Data columns (total 36 columns):\n",
      " #   Column                         Non-Null Count  Dtype  \n",
      "---  ------                         --------------  -----  \n",
      " 0   Weight_Kg                      685 non-null    float64\n",
      " 1   Low_Price                      685 non-null    float64\n",
      " 2   High_Price                     685 non-null    float64\n",
      " 3   Sales_Total                    685 non-null    float64\n",
      " 4   Total_Qty_Sold                 685 non-null    int64  \n",
      " 5   Total_Kg_Sold                  685 non-null    float64\n",
      " 6   Stock_On_Hand                  685 non-null    int64  \n",
      " 7   day                            685 non-null    int64  \n",
      " 8   month                          685 non-null    int64  \n",
      " 9   Province_CAPE                  685 non-null    uint8  \n",
      " 10  Province_EASTERN_CAPE          685 non-null    uint8  \n",
      " 11  Province_NATAL                 685 non-null    uint8  \n",
      " 12  Province_ORANGE_FREE_STATE     685 non-null    uint8  \n",
      " 13  Province_TRANSVAAL             685 non-null    uint8  \n",
      " 14  Province_W_CAPE_BERGRIVER_ETC  685 non-null    uint8  \n",
      " 15  Province_WEST_COAST            685 non-null    uint8  \n",
      " 16  Container_AC030                685 non-null    uint8  \n",
      " 17  Container_DT063                685 non-null    uint8  \n",
      " 18  Container_EC120                685 non-null    uint8  \n",
      " 19  Container_EF120                685 non-null    uint8  \n",
      " 20  Container_EG140                685 non-null    uint8  \n",
      " 21  Container_JE090                685 non-null    uint8  \n",
      " 22  Container_JG110                685 non-null    uint8  \n",
      " 23  Container_M4183                685 non-null    uint8  \n",
      " 24  Container_M6125                685 non-null    uint8  \n",
      " 25  Container_M9125                685 non-null    uint8  \n",
      " 26  Size_Grade_1L                  685 non-null    uint8  \n",
      " 27  Size_Grade_1M                  685 non-null    uint8  \n",
      " 28  Size_Grade_1S                  685 non-null    uint8  \n",
      " 29  Size_Grade_1U                  685 non-null    uint8  \n",
      " 30  Size_Grade_1X                  685 non-null    uint8  \n",
      " 31  Size_Grade_2L                  685 non-null    uint8  \n",
      " 32  Size_Grade_2M                  685 non-null    uint8  \n",
      " 33  Size_Grade_2S                  685 non-null    uint8  \n",
      " 34  Size_Grade_2U                  685 non-null    uint8  \n",
      " 35  Size_Grade_2X                  685 non-null    uint8  \n",
      "dtypes: float64(5), int64(4), uint8(27)\n",
      "memory usage: 71.6 KB\n"
     ]
    }
   ],
   "source": [
    "df_test = pd.get_dummies(df_test)\n",
    "df_test.columns = [col.replace(\" \",\"_\") for col in df_test.columns]\n",
    "df_test.columns = [col.replace(\".\",\"_\") for col in df_test.columns]\n",
    "df_test.columns = [col.replace(\"-\",\"_\") for col in df_test.columns]\n",
    "\n",
    "df_test = df_test[X_data.columns]\n",
    "\n",
    "\n",
    "df_test.info()"
   ]
  },
  {
   "cell_type": "code",
   "execution_count": 63,
   "metadata": {},
   "outputs": [],
   "source": [
    "predictions = rdr.predict(df_test)\n"
   ]
  },
  {
   "cell_type": "code",
   "execution_count": 64,
   "metadata": {},
   "outputs": [],
   "source": [
    "df_test['Index'] = range(1,686)"
   ]
  },
  {
   "cell_type": "code",
   "execution_count": 65,
   "metadata": {},
   "outputs": [],
   "source": [
    "submissions = pd.DataFrame({'Index':df_test['Index'], 'avg_price_per_kg': predictions})"
   ]
  },
  {
   "cell_type": "code",
   "execution_count": 66,
   "metadata": {},
   "outputs": [
    {
     "data": {
      "text/html": [
       "<div>\n",
       "<style scoped>\n",
       "    .dataframe tbody tr th:only-of-type {\n",
       "        vertical-align: middle;\n",
       "    }\n",
       "\n",
       "    .dataframe tbody tr th {\n",
       "        vertical-align: top;\n",
       "    }\n",
       "\n",
       "    .dataframe thead th {\n",
       "        text-align: right;\n",
       "    }\n",
       "</style>\n",
       "<table border=\"1\" class=\"dataframe\">\n",
       "  <thead>\n",
       "    <tr style=\"text-align: right;\">\n",
       "      <th></th>\n",
       "      <th>Index</th>\n",
       "      <th>avg_price_per_kg</th>\n",
       "    </tr>\n",
       "  </thead>\n",
       "  <tbody>\n",
       "    <tr>\n",
       "      <th>0</th>\n",
       "      <td>1</td>\n",
       "      <td>10.6615</td>\n",
       "    </tr>\n",
       "    <tr>\n",
       "      <th>1</th>\n",
       "      <td>2</td>\n",
       "      <td>11.5592</td>\n",
       "    </tr>\n",
       "    <tr>\n",
       "      <th>2</th>\n",
       "      <td>3</td>\n",
       "      <td>10.0000</td>\n",
       "    </tr>\n",
       "    <tr>\n",
       "      <th>3</th>\n",
       "      <td>4</td>\n",
       "      <td>8.7464</td>\n",
       "    </tr>\n",
       "    <tr>\n",
       "      <th>4</th>\n",
       "      <td>5</td>\n",
       "      <td>8.4102</td>\n",
       "    </tr>\n",
       "  </tbody>\n",
       "</table>\n",
       "</div>"
      ],
      "text/plain": [
       "   Index  avg_price_per_kg\n",
       "0      1           10.6615\n",
       "1      2           11.5592\n",
       "2      3           10.0000\n",
       "3      4            8.7464\n",
       "4      5            8.4102"
      ]
     },
     "execution_count": 66,
     "metadata": {},
     "output_type": "execute_result"
    }
   ],
   "source": [
    "submissions.head()"
   ]
  },
  {
   "cell_type": "code",
   "execution_count": 67,
   "metadata": {},
   "outputs": [],
   "source": [
    "submissions.to_csv('submissions.csv', index=False)"
   ]
  },
  {
   "cell_type": "markdown",
   "metadata": {},
   "source": [
    "## Lets save our model with pickle"
   ]
  }
 ],
 "metadata": {
  "kernelspec": {
   "display_name": "Python 3",
   "language": "python",
   "name": "python3"
  },
  "language_info": {
   "codemirror_mode": {
    "name": "ipython",
    "version": 3
   },
   "file_extension": ".py",
   "mimetype": "text/x-python",
   "name": "python",
   "nbconvert_exporter": "python",
   "pygments_lexer": "ipython3",
   "version": "3.8.5"
  }
 },
 "nbformat": 4,
 "nbformat_minor": 4
}
